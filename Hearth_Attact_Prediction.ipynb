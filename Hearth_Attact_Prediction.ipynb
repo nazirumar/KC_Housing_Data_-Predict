{
 "cells": [
  {
   "cell_type": "code",
   "execution_count": 67,
   "id": "d8c12be2",
   "metadata": {},
   "outputs": [
    {
     "data": {
      "text/plain": [
       "<Figure size 2000x1000 with 0 Axes>"
      ]
     },
     "execution_count": 67,
     "metadata": {},
     "output_type": "execute_result"
    },
    {
     "data": {
      "text/plain": [
       "<Figure size 2000x1000 with 0 Axes>"
      ]
     },
     "metadata": {},
     "output_type": "display_data"
    }
   ],
   "source": [
    "import os\n",
    "import tensorflow as tf\n",
    "import numpy as np\n",
    "import pandas as pd\n",
    "import matplotlib.pyplot as plt\n",
    "import seaborn as sns\n",
    "from sklearn.model_selection import train_test_split\n",
    "from sklearn.preprocessing import StandardScaler\n",
    "from sklearn.linear_model import LogisticRegression\n",
    "from sklearn.metrics import confusion_matrix\n",
    "from sklearn.metrics import accuracy_score\n",
    "plt.figure(figsize=(20, 10))\n"
   ]
  },
  {
   "cell_type": "code",
   "execution_count": 256,
   "id": "e50c2a60",
   "metadata": {},
   "outputs": [],
   "source": [
    "df= pd.read_csv('heart.csv')\n",
    "saturations = pd.read_csv('o2Saturation.csv')"
   ]
  },
  {
   "cell_type": "code",
   "execution_count": 4,
   "id": "74042e4a",
   "metadata": {},
   "outputs": [
    {
     "data": {
      "text/html": [
       "<div>\n",
       "<style scoped>\n",
       "    .dataframe tbody tr th:only-of-type {\n",
       "        vertical-align: middle;\n",
       "    }\n",
       "\n",
       "    .dataframe tbody tr th {\n",
       "        vertical-align: top;\n",
       "    }\n",
       "\n",
       "    .dataframe thead th {\n",
       "        text-align: right;\n",
       "    }\n",
       "</style>\n",
       "<table border=\"1\" class=\"dataframe\">\n",
       "  <thead>\n",
       "    <tr style=\"text-align: right;\">\n",
       "      <th></th>\n",
       "      <th>98.6</th>\n",
       "    </tr>\n",
       "  </thead>\n",
       "  <tbody>\n",
       "    <tr>\n",
       "      <th>0</th>\n",
       "      <td>98.6</td>\n",
       "    </tr>\n",
       "    <tr>\n",
       "      <th>1</th>\n",
       "      <td>98.6</td>\n",
       "    </tr>\n",
       "    <tr>\n",
       "      <th>2</th>\n",
       "      <td>98.6</td>\n",
       "    </tr>\n",
       "    <tr>\n",
       "      <th>3</th>\n",
       "      <td>98.1</td>\n",
       "    </tr>\n",
       "    <tr>\n",
       "      <th>4</th>\n",
       "      <td>97.5</td>\n",
       "    </tr>\n",
       "  </tbody>\n",
       "</table>\n",
       "</div>"
      ],
      "text/plain": [
       "   98.6\n",
       "0  98.6\n",
       "1  98.6\n",
       "2  98.6\n",
       "3  98.1\n",
       "4  97.5"
      ]
     },
     "execution_count": 4,
     "metadata": {},
     "output_type": "execute_result"
    }
   ],
   "source": [
    "saturations.head()"
   ]
  },
  {
   "cell_type": "code",
   "execution_count": 5,
   "id": "26f38f85",
   "metadata": {},
   "outputs": [
    {
     "data": {
      "text/html": [
       "<div>\n",
       "<style scoped>\n",
       "    .dataframe tbody tr th:only-of-type {\n",
       "        vertical-align: middle;\n",
       "    }\n",
       "\n",
       "    .dataframe tbody tr th {\n",
       "        vertical-align: top;\n",
       "    }\n",
       "\n",
       "    .dataframe thead th {\n",
       "        text-align: right;\n",
       "    }\n",
       "</style>\n",
       "<table border=\"1\" class=\"dataframe\">\n",
       "  <thead>\n",
       "    <tr style=\"text-align: right;\">\n",
       "      <th></th>\n",
       "      <th>age</th>\n",
       "      <th>sex</th>\n",
       "      <th>cp</th>\n",
       "      <th>trtbps</th>\n",
       "      <th>chol</th>\n",
       "      <th>fbs</th>\n",
       "      <th>restecg</th>\n",
       "      <th>thalachh</th>\n",
       "      <th>exng</th>\n",
       "      <th>oldpeak</th>\n",
       "      <th>slp</th>\n",
       "      <th>caa</th>\n",
       "      <th>thall</th>\n",
       "      <th>output</th>\n",
       "    </tr>\n",
       "  </thead>\n",
       "  <tbody>\n",
       "    <tr>\n",
       "      <th>0</th>\n",
       "      <td>63</td>\n",
       "      <td>1</td>\n",
       "      <td>3</td>\n",
       "      <td>145</td>\n",
       "      <td>233</td>\n",
       "      <td>1</td>\n",
       "      <td>0</td>\n",
       "      <td>150</td>\n",
       "      <td>0</td>\n",
       "      <td>2.3</td>\n",
       "      <td>0</td>\n",
       "      <td>0</td>\n",
       "      <td>1</td>\n",
       "      <td>1</td>\n",
       "    </tr>\n",
       "    <tr>\n",
       "      <th>1</th>\n",
       "      <td>37</td>\n",
       "      <td>1</td>\n",
       "      <td>2</td>\n",
       "      <td>130</td>\n",
       "      <td>250</td>\n",
       "      <td>0</td>\n",
       "      <td>1</td>\n",
       "      <td>187</td>\n",
       "      <td>0</td>\n",
       "      <td>3.5</td>\n",
       "      <td>0</td>\n",
       "      <td>0</td>\n",
       "      <td>2</td>\n",
       "      <td>1</td>\n",
       "    </tr>\n",
       "    <tr>\n",
       "      <th>2</th>\n",
       "      <td>41</td>\n",
       "      <td>0</td>\n",
       "      <td>1</td>\n",
       "      <td>130</td>\n",
       "      <td>204</td>\n",
       "      <td>0</td>\n",
       "      <td>0</td>\n",
       "      <td>172</td>\n",
       "      <td>0</td>\n",
       "      <td>1.4</td>\n",
       "      <td>2</td>\n",
       "      <td>0</td>\n",
       "      <td>2</td>\n",
       "      <td>1</td>\n",
       "    </tr>\n",
       "    <tr>\n",
       "      <th>3</th>\n",
       "      <td>56</td>\n",
       "      <td>1</td>\n",
       "      <td>1</td>\n",
       "      <td>120</td>\n",
       "      <td>236</td>\n",
       "      <td>0</td>\n",
       "      <td>1</td>\n",
       "      <td>178</td>\n",
       "      <td>0</td>\n",
       "      <td>0.8</td>\n",
       "      <td>2</td>\n",
       "      <td>0</td>\n",
       "      <td>2</td>\n",
       "      <td>1</td>\n",
       "    </tr>\n",
       "    <tr>\n",
       "      <th>4</th>\n",
       "      <td>57</td>\n",
       "      <td>0</td>\n",
       "      <td>0</td>\n",
       "      <td>120</td>\n",
       "      <td>354</td>\n",
       "      <td>0</td>\n",
       "      <td>1</td>\n",
       "      <td>163</td>\n",
       "      <td>1</td>\n",
       "      <td>0.6</td>\n",
       "      <td>2</td>\n",
       "      <td>0</td>\n",
       "      <td>2</td>\n",
       "      <td>1</td>\n",
       "    </tr>\n",
       "  </tbody>\n",
       "</table>\n",
       "</div>"
      ],
      "text/plain": [
       "   age  sex  cp  trtbps  chol  fbs  restecg  thalachh  exng  oldpeak  slp  \\\n",
       "0   63    1   3     145   233    1        0       150     0      2.3    0   \n",
       "1   37    1   2     130   250    0        1       187     0      3.5    0   \n",
       "2   41    0   1     130   204    0        0       172     0      1.4    2   \n",
       "3   56    1   1     120   236    0        1       178     0      0.8    2   \n",
       "4   57    0   0     120   354    0        1       163     1      0.6    2   \n",
       "\n",
       "   caa  thall  output  \n",
       "0    0      1       1  \n",
       "1    0      2       1  \n",
       "2    0      2       1  \n",
       "3    0      2       1  \n",
       "4    0      2       1  "
      ]
     },
     "execution_count": 5,
     "metadata": {},
     "output_type": "execute_result"
    }
   ],
   "source": [
    "df.head()"
   ]
  },
  {
   "cell_type": "code",
   "execution_count": 8,
   "id": "024ae561",
   "metadata": {},
   "outputs": [
    {
     "data": {
      "text/html": [
       "<div>\n",
       "<style scoped>\n",
       "    .dataframe tbody tr th:only-of-type {\n",
       "        vertical-align: middle;\n",
       "    }\n",
       "\n",
       "    .dataframe tbody tr th {\n",
       "        vertical-align: top;\n",
       "    }\n",
       "\n",
       "    .dataframe thead th {\n",
       "        text-align: right;\n",
       "    }\n",
       "</style>\n",
       "<table border=\"1\" class=\"dataframe\">\n",
       "  <thead>\n",
       "    <tr style=\"text-align: right;\">\n",
       "      <th></th>\n",
       "      <th>age</th>\n",
       "      <th>sex</th>\n",
       "      <th>cp</th>\n",
       "      <th>trtbps</th>\n",
       "      <th>chol</th>\n",
       "      <th>fbs</th>\n",
       "      <th>restecg</th>\n",
       "      <th>thalachh</th>\n",
       "      <th>exng</th>\n",
       "      <th>oldpeak</th>\n",
       "      <th>slp</th>\n",
       "      <th>caa</th>\n",
       "      <th>thall</th>\n",
       "      <th>output</th>\n",
       "    </tr>\n",
       "  </thead>\n",
       "  <tbody>\n",
       "    <tr>\n",
       "      <th>count</th>\n",
       "      <td>303.000000</td>\n",
       "      <td>303.000000</td>\n",
       "      <td>303.000000</td>\n",
       "      <td>303.000000</td>\n",
       "      <td>303.000000</td>\n",
       "      <td>303.000000</td>\n",
       "      <td>303.000000</td>\n",
       "      <td>303.000000</td>\n",
       "      <td>303.000000</td>\n",
       "      <td>303.000000</td>\n",
       "      <td>303.000000</td>\n",
       "      <td>303.000000</td>\n",
       "      <td>303.000000</td>\n",
       "      <td>303.000000</td>\n",
       "    </tr>\n",
       "    <tr>\n",
       "      <th>mean</th>\n",
       "      <td>54.366337</td>\n",
       "      <td>0.683168</td>\n",
       "      <td>0.966997</td>\n",
       "      <td>131.623762</td>\n",
       "      <td>246.264026</td>\n",
       "      <td>0.148515</td>\n",
       "      <td>0.528053</td>\n",
       "      <td>149.646865</td>\n",
       "      <td>0.326733</td>\n",
       "      <td>1.039604</td>\n",
       "      <td>1.399340</td>\n",
       "      <td>0.729373</td>\n",
       "      <td>2.313531</td>\n",
       "      <td>0.544554</td>\n",
       "    </tr>\n",
       "    <tr>\n",
       "      <th>std</th>\n",
       "      <td>9.082101</td>\n",
       "      <td>0.466011</td>\n",
       "      <td>1.032052</td>\n",
       "      <td>17.538143</td>\n",
       "      <td>51.830751</td>\n",
       "      <td>0.356198</td>\n",
       "      <td>0.525860</td>\n",
       "      <td>22.905161</td>\n",
       "      <td>0.469794</td>\n",
       "      <td>1.161075</td>\n",
       "      <td>0.616226</td>\n",
       "      <td>1.022606</td>\n",
       "      <td>0.612277</td>\n",
       "      <td>0.498835</td>\n",
       "    </tr>\n",
       "    <tr>\n",
       "      <th>min</th>\n",
       "      <td>29.000000</td>\n",
       "      <td>0.000000</td>\n",
       "      <td>0.000000</td>\n",
       "      <td>94.000000</td>\n",
       "      <td>126.000000</td>\n",
       "      <td>0.000000</td>\n",
       "      <td>0.000000</td>\n",
       "      <td>71.000000</td>\n",
       "      <td>0.000000</td>\n",
       "      <td>0.000000</td>\n",
       "      <td>0.000000</td>\n",
       "      <td>0.000000</td>\n",
       "      <td>0.000000</td>\n",
       "      <td>0.000000</td>\n",
       "    </tr>\n",
       "    <tr>\n",
       "      <th>25%</th>\n",
       "      <td>47.500000</td>\n",
       "      <td>0.000000</td>\n",
       "      <td>0.000000</td>\n",
       "      <td>120.000000</td>\n",
       "      <td>211.000000</td>\n",
       "      <td>0.000000</td>\n",
       "      <td>0.000000</td>\n",
       "      <td>133.500000</td>\n",
       "      <td>0.000000</td>\n",
       "      <td>0.000000</td>\n",
       "      <td>1.000000</td>\n",
       "      <td>0.000000</td>\n",
       "      <td>2.000000</td>\n",
       "      <td>0.000000</td>\n",
       "    </tr>\n",
       "    <tr>\n",
       "      <th>50%</th>\n",
       "      <td>55.000000</td>\n",
       "      <td>1.000000</td>\n",
       "      <td>1.000000</td>\n",
       "      <td>130.000000</td>\n",
       "      <td>240.000000</td>\n",
       "      <td>0.000000</td>\n",
       "      <td>1.000000</td>\n",
       "      <td>153.000000</td>\n",
       "      <td>0.000000</td>\n",
       "      <td>0.800000</td>\n",
       "      <td>1.000000</td>\n",
       "      <td>0.000000</td>\n",
       "      <td>2.000000</td>\n",
       "      <td>1.000000</td>\n",
       "    </tr>\n",
       "    <tr>\n",
       "      <th>75%</th>\n",
       "      <td>61.000000</td>\n",
       "      <td>1.000000</td>\n",
       "      <td>2.000000</td>\n",
       "      <td>140.000000</td>\n",
       "      <td>274.500000</td>\n",
       "      <td>0.000000</td>\n",
       "      <td>1.000000</td>\n",
       "      <td>166.000000</td>\n",
       "      <td>1.000000</td>\n",
       "      <td>1.600000</td>\n",
       "      <td>2.000000</td>\n",
       "      <td>1.000000</td>\n",
       "      <td>3.000000</td>\n",
       "      <td>1.000000</td>\n",
       "    </tr>\n",
       "    <tr>\n",
       "      <th>max</th>\n",
       "      <td>77.000000</td>\n",
       "      <td>1.000000</td>\n",
       "      <td>3.000000</td>\n",
       "      <td>200.000000</td>\n",
       "      <td>564.000000</td>\n",
       "      <td>1.000000</td>\n",
       "      <td>2.000000</td>\n",
       "      <td>202.000000</td>\n",
       "      <td>1.000000</td>\n",
       "      <td>6.200000</td>\n",
       "      <td>2.000000</td>\n",
       "      <td>4.000000</td>\n",
       "      <td>3.000000</td>\n",
       "      <td>1.000000</td>\n",
       "    </tr>\n",
       "  </tbody>\n",
       "</table>\n",
       "</div>"
      ],
      "text/plain": [
       "              age         sex          cp      trtbps        chol         fbs  \\\n",
       "count  303.000000  303.000000  303.000000  303.000000  303.000000  303.000000   \n",
       "mean    54.366337    0.683168    0.966997  131.623762  246.264026    0.148515   \n",
       "std      9.082101    0.466011    1.032052   17.538143   51.830751    0.356198   \n",
       "min     29.000000    0.000000    0.000000   94.000000  126.000000    0.000000   \n",
       "25%     47.500000    0.000000    0.000000  120.000000  211.000000    0.000000   \n",
       "50%     55.000000    1.000000    1.000000  130.000000  240.000000    0.000000   \n",
       "75%     61.000000    1.000000    2.000000  140.000000  274.500000    0.000000   \n",
       "max     77.000000    1.000000    3.000000  200.000000  564.000000    1.000000   \n",
       "\n",
       "          restecg    thalachh        exng     oldpeak         slp         caa  \\\n",
       "count  303.000000  303.000000  303.000000  303.000000  303.000000  303.000000   \n",
       "mean     0.528053  149.646865    0.326733    1.039604    1.399340    0.729373   \n",
       "std      0.525860   22.905161    0.469794    1.161075    0.616226    1.022606   \n",
       "min      0.000000   71.000000    0.000000    0.000000    0.000000    0.000000   \n",
       "25%      0.000000  133.500000    0.000000    0.000000    1.000000    0.000000   \n",
       "50%      1.000000  153.000000    0.000000    0.800000    1.000000    0.000000   \n",
       "75%      1.000000  166.000000    1.000000    1.600000    2.000000    1.000000   \n",
       "max      2.000000  202.000000    1.000000    6.200000    2.000000    4.000000   \n",
       "\n",
       "            thall      output  \n",
       "count  303.000000  303.000000  \n",
       "mean     2.313531    0.544554  \n",
       "std      0.612277    0.498835  \n",
       "min      0.000000    0.000000  \n",
       "25%      2.000000    0.000000  \n",
       "50%      2.000000    1.000000  \n",
       "75%      3.000000    1.000000  \n",
       "max      3.000000    1.000000  "
      ]
     },
     "execution_count": 8,
     "metadata": {},
     "output_type": "execute_result"
    }
   ],
   "source": [
    "df.describe()"
   ]
  },
  {
   "cell_type": "code",
   "execution_count": 12,
   "id": "c8bdd700",
   "metadata": {},
   "outputs": [
    {
     "name": "stdout",
     "output_type": "stream",
     "text": [
      "<class 'pandas.core.frame.DataFrame'>\n",
      "RangeIndex: 303 entries, 0 to 302\n",
      "Data columns (total 14 columns):\n",
      " #   Column    Non-Null Count  Dtype  \n",
      "---  ------    --------------  -----  \n",
      " 0   age       303 non-null    int64  \n",
      " 1   sex       303 non-null    int64  \n",
      " 2   cp        303 non-null    int64  \n",
      " 3   trtbps    303 non-null    int64  \n",
      " 4   chol      303 non-null    int64  \n",
      " 5   fbs       303 non-null    int64  \n",
      " 6   restecg   303 non-null    int64  \n",
      " 7   thalachh  303 non-null    int64  \n",
      " 8   exng      303 non-null    int64  \n",
      " 9   oldpeak   303 non-null    float64\n",
      " 10  slp       303 non-null    int64  \n",
      " 11  caa       303 non-null    int64  \n",
      " 12  thall     303 non-null    int64  \n",
      " 13  output    303 non-null    int64  \n",
      "dtypes: float64(1), int64(13)\n",
      "memory usage: 33.3 KB\n"
     ]
    }
   ],
   "source": [
    "df.info()"
   ]
  },
  {
   "cell_type": "markdown",
   "id": "b37fb9c7",
   "metadata": {},
   "source": [
    "# Exploratory Analysis"
   ]
  },
  {
   "cell_type": "code",
   "execution_count": 18,
   "id": "68680e02",
   "metadata": {},
   "outputs": [
    {
     "data": {
      "text/plain": [
       "<Figure size 720x1440 with 0 Axes>"
      ]
     },
     "metadata": {},
     "output_type": "display_data"
    },
    {
     "data": {
      "image/png": "[encoded data removed]",
      "text/plain": [
       "<Figure size 432x288 with 16 Axes>"
      ]
     },
     "metadata": {
      "needs_background": "light"
     },
     "output_type": "display_data"
    }
   ],
   "source": [
    "plt.figure(figsize=(10,20))\n",
    "\n",
    "df.hist()\n",
    "plt.show()"
   ]
  },
  {
   "cell_type": "code",
   "execution_count": 36,
   "id": "6acbe475",
   "metadata": {},
   "outputs": [
    {
     "data": {
      "text/plain": [
       "<matplotlib.legend.Legend at 0x20e0507a310>"
      ]
     },
     "execution_count": 36,
     "metadata": {},
     "output_type": "execute_result"
    },
    {
     "data": {
      "image/png": "[encoded data removed]",
      "text/plain": [
       "<Figure size 360x360 with 1 Axes>"
      ]
     },
     "metadata": {
      "needs_background": "light"
     },
     "output_type": "display_data"
    }
   ],
   "source": [
    "\n",
    "sns.displot(df.age, color=\"red\", label=\"Age\", kde= True)\n",
    "plt.legend()"
   ]
  },
  {
   "cell_type": "code",
   "execution_count": 22,
   "id": "0658d864",
   "metadata": {},
   "outputs": [
    {
     "data": {
      "text/html": [
       "<div>\n",
       "<style scoped>\n",
       "    .dataframe tbody tr th:only-of-type {\n",
       "        vertical-align: middle;\n",
       "    }\n",
       "\n",
       "    .dataframe tbody tr th {\n",
       "        vertical-align: top;\n",
       "    }\n",
       "\n",
       "    .dataframe thead th {\n",
       "        text-align: right;\n",
       "    }\n",
       "</style>\n",
       "<table border=\"1\" class=\"dataframe\">\n",
       "  <thead>\n",
       "    <tr style=\"text-align: right;\">\n",
       "      <th></th>\n",
       "      <th>age</th>\n",
       "      <th>sex</th>\n",
       "      <th>cp</th>\n",
       "      <th>trtbps</th>\n",
       "      <th>chol</th>\n",
       "      <th>fbs</th>\n",
       "      <th>restecg</th>\n",
       "      <th>thalachh</th>\n",
       "      <th>exng</th>\n",
       "      <th>oldpeak</th>\n",
       "      <th>slp</th>\n",
       "      <th>caa</th>\n",
       "      <th>thall</th>\n",
       "      <th>output</th>\n",
       "    </tr>\n",
       "  </thead>\n",
       "  <tbody>\n",
       "    <tr>\n",
       "      <th>0</th>\n",
       "      <td>63</td>\n",
       "      <td>1</td>\n",
       "      <td>3</td>\n",
       "      <td>145</td>\n",
       "      <td>233</td>\n",
       "      <td>1</td>\n",
       "      <td>0</td>\n",
       "      <td>150</td>\n",
       "      <td>0</td>\n",
       "      <td>2.3</td>\n",
       "      <td>0</td>\n",
       "      <td>0</td>\n",
       "      <td>1</td>\n",
       "      <td>1</td>\n",
       "    </tr>\n",
       "    <tr>\n",
       "      <th>1</th>\n",
       "      <td>37</td>\n",
       "      <td>1</td>\n",
       "      <td>2</td>\n",
       "      <td>130</td>\n",
       "      <td>250</td>\n",
       "      <td>0</td>\n",
       "      <td>1</td>\n",
       "      <td>187</td>\n",
       "      <td>0</td>\n",
       "      <td>3.5</td>\n",
       "      <td>0</td>\n",
       "      <td>0</td>\n",
       "      <td>2</td>\n",
       "      <td>1</td>\n",
       "    </tr>\n",
       "  </tbody>\n",
       "</table>\n",
       "</div>"
      ],
      "text/plain": [
       "   age  sex  cp  trtbps  chol  fbs  restecg  thalachh  exng  oldpeak  slp  \\\n",
       "0   63    1   3     145   233    1        0       150     0      2.3    0   \n",
       "1   37    1   2     130   250    0        1       187     0      3.5    0   \n",
       "\n",
       "   caa  thall  output  \n",
       "0    0      1       1  \n",
       "1    0      2       1  "
      ]
     },
     "execution_count": 22,
     "metadata": {},
     "output_type": "execute_result"
    }
   ],
   "source": [
    "df.head(2)"
   ]
  },
  {
   "cell_type": "code",
   "execution_count": 37,
   "id": "3e65eb69",
   "metadata": {},
   "outputs": [
    {
     "data": {
      "text/plain": [
       "<function matplotlib.pyplot.legend(*args, **kwargs)>"
      ]
     },
     "execution_count": 37,
     "metadata": {},
     "output_type": "execute_result"
    },
    {
     "data": {
      "image/png": "[encoded data removed]",
      "text/plain": [
       "<Figure size 432x288 with 1 Axes>"
      ]
     },
     "metadata": {
      "needs_background": "light"
     },
     "output_type": "display_data"
    }
   ],
   "source": [
    "sns.barplot(x='age', y='sex', data=df, label='sex' )\n",
    "plt.legend"
   ]
  },
  {
   "cell_type": "code",
   "execution_count": 38,
   "id": "892caf51",
   "metadata": {},
   "outputs": [
    {
     "data": {
      "text/html": [
       "<div>\n",
       "<style scoped>\n",
       "    .dataframe tbody tr th:only-of-type {\n",
       "        vertical-align: middle;\n",
       "    }\n",
       "\n",
       "    .dataframe tbody tr th {\n",
       "        vertical-align: top;\n",
       "    }\n",
       "\n",
       "    .dataframe thead th {\n",
       "        text-align: right;\n",
       "    }\n",
       "</style>\n",
       "<table border=\"1\" class=\"dataframe\">\n",
       "  <thead>\n",
       "    <tr style=\"text-align: right;\">\n",
       "      <th></th>\n",
       "      <th>age</th>\n",
       "      <th>sex</th>\n",
       "      <th>cp</th>\n",
       "      <th>trtbps</th>\n",
       "      <th>chol</th>\n",
       "      <th>fbs</th>\n",
       "      <th>restecg</th>\n",
       "      <th>thalachh</th>\n",
       "      <th>exng</th>\n",
       "      <th>oldpeak</th>\n",
       "      <th>slp</th>\n",
       "      <th>caa</th>\n",
       "      <th>thall</th>\n",
       "      <th>output</th>\n",
       "    </tr>\n",
       "  </thead>\n",
       "  <tbody>\n",
       "    <tr>\n",
       "      <th>0</th>\n",
       "      <td>63</td>\n",
       "      <td>1</td>\n",
       "      <td>3</td>\n",
       "      <td>145</td>\n",
       "      <td>233</td>\n",
       "      <td>1</td>\n",
       "      <td>0</td>\n",
       "      <td>150</td>\n",
       "      <td>0</td>\n",
       "      <td>2.3</td>\n",
       "      <td>0</td>\n",
       "      <td>0</td>\n",
       "      <td>1</td>\n",
       "      <td>1</td>\n",
       "    </tr>\n",
       "    <tr>\n",
       "      <th>1</th>\n",
       "      <td>37</td>\n",
       "      <td>1</td>\n",
       "      <td>2</td>\n",
       "      <td>130</td>\n",
       "      <td>250</td>\n",
       "      <td>0</td>\n",
       "      <td>1</td>\n",
       "      <td>187</td>\n",
       "      <td>0</td>\n",
       "      <td>3.5</td>\n",
       "      <td>0</td>\n",
       "      <td>0</td>\n",
       "      <td>2</td>\n",
       "      <td>1</td>\n",
       "    </tr>\n",
       "  </tbody>\n",
       "</table>\n",
       "</div>"
      ],
      "text/plain": [
       "   age  sex  cp  trtbps  chol  fbs  restecg  thalachh  exng  oldpeak  slp  \\\n",
       "0   63    1   3     145   233    1        0       150     0      2.3    0   \n",
       "1   37    1   2     130   250    0        1       187     0      3.5    0   \n",
       "\n",
       "   caa  thall  output  \n",
       "0    0      1       1  \n",
       "1    0      2       1  "
      ]
     },
     "execution_count": 38,
     "metadata": {},
     "output_type": "execute_result"
    }
   ],
   "source": [
    "df.head(2)"
   ]
  },
  {
   "cell_type": "code",
   "execution_count": 49,
   "id": "70c7d765",
   "metadata": {},
   "outputs": [
    {
     "data": {
      "text/plain": [
       "Text(0, 0.5, 'cp')"
      ]
     },
     "execution_count": 49,
     "metadata": {},
     "output_type": "execute_result"
    },
    {
     "data": {
      "image/png": "[encoded data removed]",
      "text/plain": [
       "<Figure size 640x480 with 1 Axes>"
      ]
     },
     "metadata": {},
     "output_type": "display_data"
    }
   ],
   "source": [
    "sns.boxplot(data=df,\n",
    "    x='caa',\n",
    "    y='cp',\n",
    "    hue='output')\n",
    "plt.xlabel('Caa'),\n",
    "plt.ylabel('cp')"
   ]
  },
  {
   "cell_type": "code",
   "execution_count": 51,
   "id": "9953286c",
   "metadata": {},
   "outputs": [
    {
     "data": {
      "text/plain": [
       "(array([ 0,  1,  2,  3,  4,  5,  6,  7,  8,  9, 10, 11, 12, 13, 14, 15, 16,\n",
       "        17, 18, 19, 20, 21, 22, 23, 24, 25, 26, 27, 28, 29, 30, 31, 32, 33,\n",
       "        34, 35, 36, 37, 38, 39, 40]),\n",
       " [Text(0, 0, '29'),\n",
       "  Text(1, 0, '34'),\n",
       "  Text(2, 0, '35'),\n",
       "  Text(3, 0, '37'),\n",
       "  Text(4, 0, '38'),\n",
       "  Text(5, 0, '39'),\n",
       "  Text(6, 0, '40'),\n",
       "  Text(7, 0, '41'),\n",
       "  Text(8, 0, '42'),\n",
       "  Text(9, 0, '43'),\n",
       "  Text(10, 0, '44'),\n",
       "  Text(11, 0, '45'),\n",
       "  Text(12, 0, '46'),\n",
       "  Text(13, 0, '47'),\n",
       "  Text(14, 0, '48'),\n",
       "  Text(15, 0, '49'),\n",
       "  Text(16, 0, '50'),\n",
       "  Text(17, 0, '51'),\n",
       "  Text(18, 0, '52'),\n",
       "  Text(19, 0, '53'),\n",
       "  Text(20, 0, '54'),\n",
       "  Text(21, 0, '55'),\n",
       "  Text(22, 0, '56'),\n",
       "  Text(23, 0, '57'),\n",
       "  Text(24, 0, '58'),\n",
       "  Text(25, 0, '59'),\n",
       "  Text(26, 0, '60'),\n",
       "  Text(27, 0, '61'),\n",
       "  Text(28, 0, '62'),\n",
       "  Text(29, 0, '63'),\n",
       "  Text(30, 0, '64'),\n",
       "  Text(31, 0, '65'),\n",
       "  Text(32, 0, '66'),\n",
       "  Text(33, 0, '67'),\n",
       "  Text(34, 0, '68'),\n",
       "  Text(35, 0, '69'),\n",
       "  Text(36, 0, '70'),\n",
       "  Text(37, 0, '71'),\n",
       "  Text(38, 0, '74'),\n",
       "  Text(39, 0, '76'),\n",
       "  Text(40, 0, '77')])"
      ]
     },
     "execution_count": 51,
     "metadata": {},
     "output_type": "execute_result"
    },
    {
     "data": {
      "image/png": "[encoded data removed]",
      "text/plain": [
       "<Figure size 640x480 with 1 Axes>"
      ]
     },
     "metadata": {},
     "output_type": "display_data"
    }
   ],
   "source": [
    "sns.boxplot(data=df,\n",
    "    x='age',\n",
    "    y='sex',\n",
    "    hue='output')\n",
    "plt.xlabel('Age'),\n",
    "plt.ylabel('Sex')\n",
    "plt.xticks(rotation=90)"
   ]
  },
  {
   "cell_type": "markdown",
   "id": "11ed7772",
   "metadata": {},
   "source": [
    "# Split The Data into the X and Y "
   ]
  },
  {
   "cell_type": "code",
   "execution_count": 70,
   "id": "84ebcbde",
   "metadata": {},
   "outputs": [],
   "source": [
    "y = df.pop('output')\n",
    "X = df\n"
   ]
  },
  {
   "cell_type": "code",
   "execution_count": 76,
   "id": "b16f587b",
   "metadata": {},
   "outputs": [
    {
     "data": {
      "text/plain": [
       "(303, 13)"
      ]
     },
     "execution_count": 76,
     "metadata": {},
     "output_type": "execute_result"
    }
   ],
   "source": [
    "X.shape"
   ]
  },
  {
   "cell_type": "code",
   "execution_count": 77,
   "id": "f3d85e76",
   "metadata": {},
   "outputs": [
    {
     "data": {
      "text/plain": [
       "(303,)"
      ]
     },
     "execution_count": 77,
     "metadata": {},
     "output_type": "execute_result"
    }
   ],
   "source": [
    "y.shape"
   ]
  },
  {
   "cell_type": "markdown",
   "id": "e03a8061",
   "metadata": {},
   "source": [
    "# Split into X_train, X_test"
   ]
  },
  {
   "cell_type": "code",
   "execution_count": 90,
   "id": "f6a1053f",
   "metadata": {},
   "outputs": [],
   "source": [
    "x_train, x_test, y_train, y_test = train_test_split(X, y, test_size= 0.2, random_state= 42)"
   ]
  },
  {
   "cell_type": "code",
   "execution_count": 91,
   "id": "2e270bf6",
   "metadata": {},
   "outputs": [
    {
     "name": "stdout",
     "output_type": "stream",
     "text": [
      "Shape for training data (242, 13) (242,)\n",
      "Shape for testing data (61, 13) (61,)\n"
     ]
    }
   ],
   "source": [
    "print('Shape for training data', x_train.shape, y_train.shape)\n",
    "print('Shape for testing data', x_test.shape, y_test.shape)"
   ]
  },
  {
   "cell_type": "code",
   "execution_count": 79,
   "id": "693082f6",
   "metadata": {},
   "outputs": [],
   "source": [
    "scaler = StandardScaler()\n",
    "x_train = scaler.fit_transform(x_train)\n",
    "x_test = scaler.transform(x_test)"
   ]
  },
  {
   "cell_type": "code",
   "execution_count": 154,
   "id": "0d83fbef",
   "metadata": {},
   "outputs": [
    {
     "data": {
      "text/plain": [
       "TensorShape([242, 13])"
      ]
     },
     "execution_count": 154,
     "metadata": {},
     "output_type": "execute_result"
    }
   ],
   "source": [
    "x_train.shape\n"
   ]
  },
  {
   "cell_type": "code",
   "execution_count": 285,
   "id": "4f8bc2ad",
   "metadata": {},
   "outputs": [
    {
     "data": {
      "text/plain": [
       "LogisticRegression(max_iter=100000)"
      ]
     },
     "execution_count": 285,
     "metadata": {},
     "output_type": "execute_result"
    }
   ],
   "source": [
    "model1 = LogisticRegression(max_iter=100000)\n",
    "model1.fit(x_train, y_train)\n"
   ]
  },
  {
   "cell_type": "code",
   "execution_count": 286,
   "id": "d5b5ed37",
   "metadata": {},
   "outputs": [
    {
     "name": "stderr",
     "output_type": "stream",
     "text": [
      "C:\\Users\\Nazbeen\\anaconda3\\lib\\site-packages\\sklearn\\base.py:443: UserWarning: X has feature names, but LogisticRegression was fitted without feature names\n",
      "  warnings.warn(\n"
     ]
    },
    {
     "data": {
      "text/plain": [
       "array([0, 1, 1, 0, 1, 1, 1, 0, 0, 1, 1, 0, 1, 0, 1, 1, 1, 0, 0, 0, 1, 0,\n",
       "       0, 1, 1, 1, 1, 1, 0, 1, 0, 0, 0, 0, 1, 0, 1, 1, 1, 1, 1, 1, 1, 1,\n",
       "       1, 0, 1, 1, 0, 0, 0, 0, 1, 1, 0, 0, 0, 1, 0, 0, 0], dtype=int64)"
      ]
     },
     "execution_count": 286,
     "metadata": {},
     "output_type": "execute_result"
    }
   ],
   "source": [
    "y_pred1 = model1.predict(x_test)\n",
    "y_pred1"
   ]
  },
  {
   "cell_type": "code",
   "execution_count": 288,
   "id": "b1e2459e",
   "metadata": {},
   "outputs": [
    {
     "data": {
      "text/plain": [
       "0.5398706896551724"
      ]
     },
     "execution_count": 288,
     "metadata": {},
     "output_type": "execute_result"
    }
   ],
   "source": [
    "model_1= r2_score(y_test, pred1)\n",
    "model_1"
   ]
  },
  {
   "cell_type": "code",
   "execution_count": 273,
   "id": "cc89ea31",
   "metadata": {},
   "outputs": [],
   "source": [
    "def plot_predict(train_data =x_train[:,0],\n",
    "                 train_label =y_train,\n",
    "                 test_data =x_test.iloc[:,0],\n",
    "                 test_label =y_test,\n",
    "                 predictions = y_pred1):\n",
    "  plt.figure(figsize=(10,7))\n",
    "  plt.scatter(train_data, train_label, c='b', label=\"Training Data\")\n",
    "\n",
    "  plt.scatter(test_data, test_label, c='r', label=\"Training Data\")\n",
    "  plt.scatter(test_data, predictions, c='g', label=\"Training Data\")\n",
    "\n",
    "  plt.legend()"
   ]
  },
  {
   "cell_type": "code",
   "execution_count": 289,
   "id": "fbcfa15e",
   "metadata": {},
   "outputs": [
    {
     "data": {
      "image/png": "[encoded data removed]",
      "text/plain": [
       "<Figure size 1000x700 with 1 Axes>"
      ]
     },
     "metadata": {},
     "output_type": "display_data"
    }
   ],
   "source": [
    "plot_predict()"
   ]
  },
  {
   "cell_type": "code",
   "execution_count": 276,
   "id": "6987e6eb",
   "metadata": {},
   "outputs": [
    {
     "name": "stdout",
     "output_type": "stream",
     "text": [
      "Confusion Matrix : \n",
      " [[29  0]\n",
      " [29  3]]\n",
      "\n",
      "\n",
      "The accuracy of Logistic Regression is : 0.5398706896551724\n"
     ]
    },
    {
     "name": "stderr",
     "output_type": "stream",
     "text": [
      "C:\\Users\\Nazbeen\\anaconda3\\lib\\site-packages\\sklearn\\base.py:443: UserWarning: X has feature names, but LogisticRegression was fitted without feature names\n",
      "  warnings.warn(\n"
     ]
    }
   ],
   "source": [
    "pred1=model1.predict(x_test)\n",
    "conf = confusion_matrix(y_test, predicted)\n",
    "print (\"Confusion Matrix : \\n\", conf)\n",
    "print()\n",
    "print()\n",
    "print (\"The accuracy of Logistic Regression is :\", r2_score(y_test, pred1))"
   ]
  },
  {
   "cell_type": "code",
   "execution_count": null,
   "id": "0d9f97e8",
   "metadata": {},
   "outputs": [],
   "source": []
  },
  {
   "cell_type": "code",
   "execution_count": 210,
   "id": "37e0fb72",
   "metadata": {},
   "outputs": [],
   "source": [
    "tf.random.set_seed(42)\n",
    "model2 =tf.keras.Sequential([\n",
    "    tf.keras.layers.Dense(100, input_shape=[13]),\n",
    "    tf.keras.layers.Dense(1, )\n",
    "\n",
    "])\n",
    "\n",
    "model2.compile(loss=tf.keras.losses.mae,\n",
    "              optimizer=tf.keras.optimizers.Adam(),\n",
    "              metrics=[\"mae\"])"
   ]
  },
  {
   "cell_type": "code",
   "execution_count": 211,
   "id": "ba1a4b8b",
   "metadata": {},
   "outputs": [
    {
     "name": "stdout",
     "output_type": "stream",
     "text": [
      "Model: \"sequential_16\"\n",
      "_________________________________________________________________\n",
      " Layer (type)                Output Shape              Param #   \n",
      "=================================================================\n",
      " dense_38 (Dense)            (None, 100)               1400      \n",
      "                                                                 \n",
      " dense_39 (Dense)            (None, 1)                 101       \n",
      "                                                                 \n",
      "=================================================================\n",
      "Total params: 1,501\n",
      "Trainable params: 1,501\n",
      "Non-trainable params: 0\n",
      "_________________________________________________________________\n"
     ]
    }
   ],
   "source": [
    "model2.summary()"
   ]
  },
  {
   "cell_type": "code",
   "execution_count": 212,
   "id": "d4978318",
   "metadata": {},
   "outputs": [
    {
     "name": "stdout",
     "output_type": "stream",
     "text": [
      "Epoch 1/500\n",
      "8/8 [==============================] - 1s 5ms/step - loss: 18.4641 - mae: 18.4641\n",
      "Epoch 2/500\n",
      "8/8 [==============================] - 0s 7ms/step - loss: 9.6077 - mae: 9.6077\n",
      "Epoch 3/500\n",
      "8/8 [==============================] - 0s 10ms/step - loss: 7.1137 - mae: 7.1137\n",
      "Epoch 4/500\n",
      "8/8 [==============================] - 0s 6ms/step - loss: 5.6672 - mae: 5.6672\n",
      "Epoch 5/500\n",
      "8/8 [==============================] - 0s 5ms/step - loss: 3.9863 - mae: 3.9863\n",
      "Epoch 6/500\n",
      "8/8 [==============================] - 0s 10ms/step - loss: 2.7909 - mae: 2.7909\n",
      "Epoch 7/500\n",
      "8/8 [==============================] - 0s 7ms/step - loss: 1.7460 - mae: 1.7460\n",
      "Epoch 8/500\n",
      "8/8 [==============================] - 0s 5ms/step - loss: 1.6855 - mae: 1.6855\n",
      "Epoch 9/500\n",
      "8/8 [==============================] - 0s 6ms/step - loss: 1.3920 - mae: 1.3920\n",
      "Epoch 10/500\n",
      "8/8 [==============================] - 0s 7ms/step - loss: 1.3755 - mae: 1.3755\n",
      "Epoch 11/500\n",
      "8/8 [==============================] - 0s 6ms/step - loss: 1.3131 - mae: 1.3131\n",
      "Epoch 12/500\n",
      "8/8 [==============================] - 0s 10ms/step - loss: 0.8122 - mae: 0.8122\n",
      "Epoch 13/500\n",
      "8/8 [==============================] - 0s 8ms/step - loss: 0.9798 - mae: 0.9798\n",
      "Epoch 14/500\n",
      "8/8 [==============================] - 0s 5ms/step - loss: 1.0155 - mae: 1.0155\n",
      "Epoch 15/500\n",
      "8/8 [==============================] - 0s 6ms/step - loss: 0.6594 - mae: 0.6594\n",
      "Epoch 16/500\n",
      "8/8 [==============================] - 0s 5ms/step - loss: 0.5063 - mae: 0.5063\n",
      "Epoch 17/500\n",
      "8/8 [==============================] - 0s 6ms/step - loss: 0.5322 - mae: 0.5322\n",
      "Epoch 18/500\n",
      "8/8 [==============================] - 0s 5ms/step - loss: 0.5358 - mae: 0.5358\n",
      "Epoch 19/500\n",
      "8/8 [==============================] - 0s 6ms/step - loss: 0.4646 - mae: 0.4646\n",
      "Epoch 20/500\n",
      "8/8 [==============================] - 0s 5ms/step - loss: 0.8628 - mae: 0.8628\n",
      "Epoch 21/500\n",
      "8/8 [==============================] - 0s 6ms/step - loss: 0.8774 - mae: 0.8774\n",
      "Epoch 22/500\n",
      "8/8 [==============================] - 0s 5ms/step - loss: 0.8068 - mae: 0.8068\n",
      "Epoch 23/500\n",
      "8/8 [==============================] - 0s 6ms/step - loss: 0.7896 - mae: 0.7896\n",
      "Epoch 24/500\n",
      "8/8 [==============================] - 0s 5ms/step - loss: 0.7431 - mae: 0.7431\n",
      "Epoch 25/500\n",
      "8/8 [==============================] - 0s 5ms/step - loss: 0.7950 - mae: 0.7950\n",
      "Epoch 26/500\n",
      "8/8 [==============================] - 0s 5ms/step - loss: 0.3687 - mae: 0.3687\n",
      "Epoch 27/500\n",
      "8/8 [==============================] - 0s 5ms/step - loss: 0.8088 - mae: 0.8088\n",
      "Epoch 28/500\n",
      "8/8 [==============================] - 0s 5ms/step - loss: 0.8089 - mae: 0.8089\n",
      "Epoch 29/500\n",
      "8/8 [==============================] - 0s 7ms/step - loss: 0.7590 - mae: 0.7590\n",
      "Epoch 30/500\n",
      "8/8 [==============================] - 0s 6ms/step - loss: 0.7941 - mae: 0.7941\n",
      "Epoch 31/500\n",
      "8/8 [==============================] - 0s 7ms/step - loss: 0.4184 - mae: 0.4184\n",
      "Epoch 32/500\n",
      "8/8 [==============================] - 0s 6ms/step - loss: 0.5649 - mae: 0.5649\n",
      "Epoch 33/500\n",
      "8/8 [==============================] - 0s 5ms/step - loss: 0.7360 - mae: 0.7360\n",
      "Epoch 34/500\n",
      "8/8 [==============================] - 0s 5ms/step - loss: 0.4103 - mae: 0.4103\n",
      "Epoch 35/500\n",
      "8/8 [==============================] - 0s 5ms/step - loss: 0.4349 - mae: 0.4349\n",
      "Epoch 36/500\n",
      "8/8 [==============================] - 0s 5ms/step - loss: 0.4595 - mae: 0.4595\n",
      "Epoch 37/500\n",
      "8/8 [==============================] - 0s 6ms/step - loss: 0.7970 - mae: 0.7970\n",
      "Epoch 38/500\n",
      "8/8 [==============================] - 0s 9ms/step - loss: 0.4124 - mae: 0.4124\n",
      "Epoch 39/500\n",
      "8/8 [==============================] - 0s 6ms/step - loss: 0.4599 - mae: 0.4599\n",
      "Epoch 40/500\n",
      "8/8 [==============================] - 0s 5ms/step - loss: 0.7476 - mae: 0.7476\n",
      "Epoch 41/500\n",
      "8/8 [==============================] - 0s 5ms/step - loss: 0.4836 - mae: 0.4836\n",
      "Epoch 42/500\n",
      "8/8 [==============================] - 0s 5ms/step - loss: 0.7700 - mae: 0.7700\n",
      "Epoch 43/500\n",
      "8/8 [==============================] - 0s 5ms/step - loss: 0.7192 - mae: 0.7192\n",
      "Epoch 44/500\n",
      "8/8 [==============================] - 0s 8ms/step - loss: 0.9162 - mae: 0.9162\n",
      "Epoch 45/500\n",
      "8/8 [==============================] - 0s 5ms/step - loss: 0.7783 - mae: 0.7783\n",
      "Epoch 46/500\n",
      "8/8 [==============================] - 0s 5ms/step - loss: 0.3997 - mae: 0.3997\n",
      "Epoch 47/500\n",
      "8/8 [==============================] - 0s 5ms/step - loss: 0.5585 - mae: 0.5585\n",
      "Epoch 48/500\n",
      "8/8 [==============================] - 0s 5ms/step - loss: 0.8032 - mae: 0.8032\n",
      "Epoch 49/500\n",
      "8/8 [==============================] - 0s 6ms/step - loss: 0.5241 - mae: 0.5241\n",
      "Epoch 50/500\n",
      "8/8 [==============================] - 0s 6ms/step - loss: 0.4157 - mae: 0.4157\n",
      "Epoch 51/500\n",
      "8/8 [==============================] - 0s 6ms/step - loss: 0.3786 - mae: 0.3786\n",
      "Epoch 52/500\n",
      "8/8 [==============================] - 0s 5ms/step - loss: 0.7246 - mae: 0.7246\n",
      "Epoch 53/500\n",
      "8/8 [==============================] - 0s 4ms/step - loss: 0.9495 - mae: 0.9495\n",
      "Epoch 54/500\n",
      "8/8 [==============================] - 0s 4ms/step - loss: 0.6574 - mae: 0.6574\n",
      "Epoch 55/500\n",
      "8/8 [==============================] - 0s 4ms/step - loss: 0.5788 - mae: 0.5788\n",
      "Epoch 56/500\n",
      "8/8 [==============================] - 0s 5ms/step - loss: 0.8012 - mae: 0.8012\n",
      "Epoch 57/500\n",
      "8/8 [==============================] - 0s 4ms/step - loss: 0.8764 - mae: 0.8764\n",
      "Epoch 58/500\n",
      "8/8 [==============================] - 0s 4ms/step - loss: 0.7032 - mae: 0.7032\n",
      "Epoch 59/500\n",
      "8/8 [==============================] - 0s 5ms/step - loss: 0.5825 - mae: 0.5825\n",
      "Epoch 60/500\n",
      "8/8 [==============================] - 0s 5ms/step - loss: 0.7635 - mae: 0.7635\n",
      "Epoch 61/500\n",
      "8/8 [==============================] - 0s 5ms/step - loss: 0.7899 - mae: 0.7899\n",
      "Epoch 62/500\n",
      "8/8 [==============================] - 0s 4ms/step - loss: 0.6607 - mae: 0.6607\n",
      "Epoch 63/500\n",
      "8/8 [==============================] - 0s 4ms/step - loss: 0.6916 - mae: 0.6916\n",
      "Epoch 64/500\n",
      "8/8 [==============================] - 0s 4ms/step - loss: 0.7816 - mae: 0.7816\n",
      "Epoch 65/500\n",
      "8/8 [==============================] - 0s 4ms/step - loss: 0.7045 - mae: 0.7045\n",
      "Epoch 66/500\n",
      "8/8 [==============================] - 0s 5ms/step - loss: 0.5810 - mae: 0.5810\n",
      "Epoch 67/500\n",
      "8/8 [==============================] - 0s 5ms/step - loss: 0.3758 - mae: 0.3758\n",
      "Epoch 68/500\n",
      "8/8 [==============================] - 0s 4ms/step - loss: 0.4251 - mae: 0.4251\n",
      "Epoch 69/500\n",
      "8/8 [==============================] - 0s 4ms/step - loss: 0.3421 - mae: 0.3421\n",
      "Epoch 70/500\n",
      "8/8 [==============================] - 0s 6ms/step - loss: 0.3444 - mae: 0.3444\n",
      "Epoch 71/500\n",
      "8/8 [==============================] - 0s 7ms/step - loss: 0.5259 - mae: 0.5259\n",
      "Epoch 72/500\n",
      "8/8 [==============================] - 0s 8ms/step - loss: 0.6544 - mae: 0.6544\n",
      "Epoch 73/500\n",
      "8/8 [==============================] - 0s 5ms/step - loss: 0.6487 - mae: 0.6487\n",
      "Epoch 74/500\n",
      "8/8 [==============================] - 0s 5ms/step - loss: 1.5597 - mae: 1.5597\n",
      "Epoch 75/500\n",
      "8/8 [==============================] - 0s 5ms/step - loss: 1.5638 - mae: 1.5638\n",
      "Epoch 76/500\n",
      "8/8 [==============================] - 0s 5ms/step - loss: 1.4025 - mae: 1.4025\n",
      "Epoch 77/500\n",
      "8/8 [==============================] - 0s 5ms/step - loss: 0.7352 - mae: 0.7352\n",
      "Epoch 78/500\n",
      "8/8 [==============================] - 0s 4ms/step - loss: 0.6906 - mae: 0.6906\n",
      "Epoch 79/500\n",
      "8/8 [==============================] - 0s 5ms/step - loss: 0.9395 - mae: 0.9395\n",
      "Epoch 80/500\n",
      "8/8 [==============================] - 0s 5ms/step - loss: 1.0709 - mae: 1.0709\n",
      "Epoch 81/500\n",
      "8/8 [==============================] - 0s 7ms/step - loss: 0.6879 - mae: 0.6879\n",
      "Epoch 82/500\n",
      "8/8 [==============================] - 0s 5ms/step - loss: 0.6715 - mae: 0.6715\n",
      "Epoch 83/500\n",
      "8/8 [==============================] - 0s 5ms/step - loss: 0.5996 - mae: 0.5996\n",
      "Epoch 84/500\n",
      "8/8 [==============================] - 0s 4ms/step - loss: 0.7744 - mae: 0.7744\n",
      "Epoch 85/500\n",
      "8/8 [==============================] - 0s 4ms/step - loss: 1.2979 - mae: 1.2979\n",
      "Epoch 86/500\n",
      "8/8 [==============================] - 0s 5ms/step - loss: 1.2401 - mae: 1.2401\n",
      "Epoch 87/500\n",
      "8/8 [==============================] - 0s 5ms/step - loss: 1.2313 - mae: 1.2313\n",
      "Epoch 88/500\n",
      "8/8 [==============================] - 0s 4ms/step - loss: 0.8276 - mae: 0.8276\n",
      "Epoch 89/500\n"
     ]
    },
    {
     "name": "stdout",
     "output_type": "stream",
     "text": [
      "8/8 [==============================] - 0s 4ms/step - loss: 0.6758 - mae: 0.6758\n",
      "Epoch 90/500\n",
      "8/8 [==============================] - 0s 5ms/step - loss: 0.6130 - mae: 0.6130\n",
      "Epoch 91/500\n",
      "8/8 [==============================] - 0s 7ms/step - loss: 0.6707 - mae: 0.6707\n",
      "Epoch 92/500\n",
      "8/8 [==============================] - 0s 6ms/step - loss: 0.7362 - mae: 0.7362\n",
      "Epoch 93/500\n",
      "8/8 [==============================] - 0s 11ms/step - loss: 0.5322 - mae: 0.5322\n",
      "Epoch 94/500\n",
      "8/8 [==============================] - 0s 7ms/step - loss: 0.6441 - mae: 0.6441\n",
      "Epoch 95/500\n",
      "8/8 [==============================] - 0s 5ms/step - loss: 0.4892 - mae: 0.4892\n",
      "Epoch 96/500\n",
      "8/8 [==============================] - 0s 5ms/step - loss: 0.3432 - mae: 0.3432\n",
      "Epoch 97/500\n",
      "8/8 [==============================] - 0s 5ms/step - loss: 0.6611 - mae: 0.6611\n",
      "Epoch 98/500\n",
      "8/8 [==============================] - 0s 6ms/step - loss: 0.6981 - mae: 0.6981\n",
      "Epoch 99/500\n",
      "8/8 [==============================] - 0s 7ms/step - loss: 0.6899 - mae: 0.6899\n",
      "Epoch 100/500\n",
      "8/8 [==============================] - 0s 6ms/step - loss: 0.4867 - mae: 0.4867\n",
      "Epoch 101/500\n",
      "8/8 [==============================] - 0s 4ms/step - loss: 0.3459 - mae: 0.3459\n",
      "Epoch 102/500\n",
      "8/8 [==============================] - 0s 4ms/step - loss: 0.3382 - mae: 0.3382\n",
      "Epoch 103/500\n",
      "8/8 [==============================] - 0s 4ms/step - loss: 0.3570 - mae: 0.3570\n",
      "Epoch 104/500\n",
      "8/8 [==============================] - 0s 4ms/step - loss: 0.6587 - mae: 0.6587\n",
      "Epoch 105/500\n",
      "8/8 [==============================] - 0s 4ms/step - loss: 0.9900 - mae: 0.9900\n",
      "Epoch 106/500\n",
      "8/8 [==============================] - 0s 4ms/step - loss: 1.4244 - mae: 1.4244\n",
      "Epoch 107/500\n",
      "8/8 [==============================] - 0s 5ms/step - loss: 1.1581 - mae: 1.1581\n",
      "Epoch 108/500\n",
      "8/8 [==============================] - 0s 6ms/step - loss: 0.9836 - mae: 0.9836\n",
      "Epoch 109/500\n",
      "8/8 [==============================] - 0s 7ms/step - loss: 0.6754 - mae: 0.6754\n",
      "Epoch 110/500\n",
      "8/8 [==============================] - 0s 7ms/step - loss: 0.5919 - mae: 0.5919\n",
      "Epoch 111/500\n",
      "8/8 [==============================] - 0s 5ms/step - loss: 0.4127 - mae: 0.4127\n",
      "Epoch 112/500\n",
      "8/8 [==============================] - 0s 5ms/step - loss: 0.3736 - mae: 0.3736\n",
      "Epoch 113/500\n",
      "8/8 [==============================] - 0s 4ms/step - loss: 0.6583 - mae: 0.6583\n",
      "Epoch 114/500\n",
      "8/8 [==============================] - 0s 5ms/step - loss: 0.6635 - mae: 0.6635\n",
      "Epoch 115/500\n",
      "8/8 [==============================] - 0s 4ms/step - loss: 0.6810 - mae: 0.6810\n",
      "Epoch 116/500\n",
      "8/8 [==============================] - 0s 5ms/step - loss: 0.3876 - mae: 0.3876\n",
      "Epoch 117/500\n",
      "8/8 [==============================] - 0s 9ms/step - loss: 0.6834 - mae: 0.6834\n",
      "Epoch 118/500\n",
      "8/8 [==============================] - 0s 8ms/step - loss: 0.5071 - mae: 0.5071\n",
      "Epoch 119/500\n",
      "8/8 [==============================] - 0s 6ms/step - loss: 0.3626 - mae: 0.3626\n",
      "Epoch 120/500\n",
      "8/8 [==============================] - 0s 5ms/step - loss: 0.4917 - mae: 0.4917\n",
      "Epoch 121/500\n",
      "8/8 [==============================] - 0s 10ms/step - loss: 0.6358 - mae: 0.6358\n",
      "Epoch 122/500\n",
      "8/8 [==============================] - 0s 6ms/step - loss: 0.7481 - mae: 0.7481\n",
      "Epoch 123/500\n",
      "8/8 [==============================] - 0s 5ms/step - loss: 0.8785 - mae: 0.8785\n",
      "Epoch 124/500\n",
      "8/8 [==============================] - 0s 8ms/step - loss: 1.3741 - mae: 1.3741\n",
      "Epoch 125/500\n",
      "8/8 [==============================] - 0s 6ms/step - loss: 0.9039 - mae: 0.9039\n",
      "Epoch 126/500\n",
      "8/8 [==============================] - 0s 6ms/step - loss: 1.3065 - mae: 1.3065\n",
      "Epoch 127/500\n",
      "8/8 [==============================] - 0s 6ms/step - loss: 1.1651 - mae: 1.1651\n",
      "Epoch 128/500\n",
      "8/8 [==============================] - 0s 4ms/step - loss: 1.2932 - mae: 1.2932\n",
      "Epoch 129/500\n",
      "8/8 [==============================] - 0s 5ms/step - loss: 1.2179 - mae: 1.2179\n",
      "Epoch 130/500\n",
      "8/8 [==============================] - 0s 5ms/step - loss: 1.0129 - mae: 1.0129\n",
      "Epoch 131/500\n",
      "8/8 [==============================] - 0s 4ms/step - loss: 1.1752 - mae: 1.1752\n",
      "Epoch 132/500\n",
      "8/8 [==============================] - 0s 5ms/step - loss: 0.8509 - mae: 0.8509\n",
      "Epoch 133/500\n",
      "8/8 [==============================] - 0s 5ms/step - loss: 0.9536 - mae: 0.9536\n",
      "Epoch 134/500\n",
      "8/8 [==============================] - 0s 5ms/step - loss: 0.6012 - mae: 0.6012\n",
      "Epoch 135/500\n",
      "8/8 [==============================] - 0s 5ms/step - loss: 0.4357 - mae: 0.4357\n",
      "Epoch 136/500\n",
      "8/8 [==============================] - 0s 5ms/step - loss: 0.3748 - mae: 0.3748\n",
      "Epoch 137/500\n",
      "8/8 [==============================] - 0s 6ms/step - loss: 0.4130 - mae: 0.4130\n",
      "Epoch 138/500\n",
      "8/8 [==============================] - 0s 5ms/step - loss: 0.4337 - mae: 0.4337\n",
      "Epoch 139/500\n",
      "8/8 [==============================] - 0s 10ms/step - loss: 0.8317 - mae: 0.8317\n",
      "Epoch 140/500\n",
      "8/8 [==============================] - 0s 6ms/step - loss: 0.7407 - mae: 0.7407\n",
      "Epoch 141/500\n",
      "8/8 [==============================] - 0s 4ms/step - loss: 0.7796 - mae: 0.7796\n",
      "Epoch 142/500\n",
      "8/8 [==============================] - 0s 5ms/step - loss: 0.8169 - mae: 0.8169\n",
      "Epoch 143/500\n",
      "8/8 [==============================] - 0s 5ms/step - loss: 0.5565 - mae: 0.5565\n",
      "Epoch 144/500\n",
      "8/8 [==============================] - 0s 5ms/step - loss: 0.6015 - mae: 0.6015\n",
      "Epoch 145/500\n",
      "8/8 [==============================] - 0s 5ms/step - loss: 0.3811 - mae: 0.3811\n",
      "Epoch 146/500\n",
      "8/8 [==============================] - 0s 5ms/step - loss: 0.3566 - mae: 0.3566\n",
      "Epoch 147/500\n",
      "8/8 [==============================] - 0s 4ms/step - loss: 0.4736 - mae: 0.4736\n",
      "Epoch 148/500\n",
      "8/8 [==============================] - 0s 5ms/step - loss: 0.7185 - mae: 0.7185\n",
      "Epoch 149/500\n",
      "8/8 [==============================] - 0s 4ms/step - loss: 0.5641 - mae: 0.5641\n",
      "Epoch 150/500\n",
      "8/8 [==============================] - 0s 5ms/step - loss: 0.3385 - mae: 0.3385\n",
      "Epoch 151/500\n",
      "8/8 [==============================] - 0s 5ms/step - loss: 0.3678 - mae: 0.3678\n",
      "Epoch 152/500\n",
      "8/8 [==============================] - 0s 5ms/step - loss: 0.3862 - mae: 0.3862\n",
      "Epoch 153/500\n",
      "8/8 [==============================] - 0s 5ms/step - loss: 0.3448 - mae: 0.3448\n",
      "Epoch 154/500\n",
      "8/8 [==============================] - 0s 5ms/step - loss: 0.5081 - mae: 0.5081\n",
      "Epoch 155/500\n",
      "8/8 [==============================] - 0s 5ms/step - loss: 0.5733 - mae: 0.5733\n",
      "Epoch 156/500\n",
      "8/8 [==============================] - 0s 5ms/step - loss: 0.4828 - mae: 0.4828\n",
      "Epoch 157/500\n",
      "8/8 [==============================] - 0s 5ms/step - loss: 0.5357 - mae: 0.5357\n",
      "Epoch 158/500\n",
      "8/8 [==============================] - 0s 5ms/step - loss: 0.5995 - mae: 0.5995\n",
      "Epoch 159/500\n",
      "8/8 [==============================] - 0s 4ms/step - loss: 0.5968 - mae: 0.5968\n",
      "Epoch 160/500\n",
      "8/8 [==============================] - 0s 5ms/step - loss: 0.6518 - mae: 0.6518\n",
      "Epoch 161/500\n",
      "8/8 [==============================] - 0s 5ms/step - loss: 1.2702 - mae: 1.2702\n",
      "Epoch 162/500\n",
      "8/8 [==============================] - 0s 5ms/step - loss: 0.9644 - mae: 0.9644\n",
      "Epoch 163/500\n",
      "8/8 [==============================] - 0s 5ms/step - loss: 0.5756 - mae: 0.5756\n",
      "Epoch 164/500\n",
      "8/8 [==============================] - 0s 4ms/step - loss: 0.3577 - mae: 0.3577\n",
      "Epoch 165/500\n",
      "8/8 [==============================] - 0s 5ms/step - loss: 0.4200 - mae: 0.4200\n",
      "Epoch 166/500\n",
      "8/8 [==============================] - 0s 10ms/step - loss: 0.7032 - mae: 0.7032\n",
      "Epoch 167/500\n",
      "8/8 [==============================] - 0s 5ms/step - loss: 0.5452 - mae: 0.5452\n",
      "Epoch 168/500\n",
      "8/8 [==============================] - 0s 6ms/step - loss: 0.3710 - mae: 0.3710\n",
      "Epoch 169/500\n",
      "8/8 [==============================] - 0s 5ms/step - loss: 0.3920 - mae: 0.3920\n",
      "Epoch 170/500\n",
      "8/8 [==============================] - 0s 5ms/step - loss: 0.3797 - mae: 0.3797\n",
      "Epoch 171/500\n",
      "8/8 [==============================] - 0s 5ms/step - loss: 0.6324 - mae: 0.6324\n",
      "Epoch 172/500\n",
      "8/8 [==============================] - 0s 4ms/step - loss: 0.4469 - mae: 0.4469\n",
      "Epoch 173/500\n",
      "8/8 [==============================] - 0s 5ms/step - loss: 0.6724 - mae: 0.6724\n",
      "Epoch 174/500\n",
      "8/8 [==============================] - 0s 5ms/step - loss: 1.1002 - mae: 1.1002\n",
      "Epoch 175/500\n",
      "8/8 [==============================] - 0s 4ms/step - loss: 1.0973 - mae: 1.0973\n",
      "Epoch 176/500\n"
     ]
    },
    {
     "name": "stdout",
     "output_type": "stream",
     "text": [
      "8/8 [==============================] - 0s 4ms/step - loss: 0.6199 - mae: 0.6199\n",
      "Epoch 177/500\n",
      "8/8 [==============================] - 0s 4ms/step - loss: 0.7065 - mae: 0.7065\n",
      "Epoch 178/500\n",
      "8/8 [==============================] - 0s 6ms/step - loss: 0.7467 - mae: 0.7467\n",
      "Epoch 179/500\n",
      "8/8 [==============================] - 0s 12ms/step - loss: 0.4055 - mae: 0.4055\n",
      "Epoch 180/500\n",
      "8/8 [==============================] - 0s 8ms/step - loss: 0.5398 - mae: 0.5398\n",
      "Epoch 181/500\n",
      "8/8 [==============================] - 0s 10ms/step - loss: 0.5955 - mae: 0.5955\n",
      "Epoch 182/500\n",
      "8/8 [==============================] - 0s 8ms/step - loss: 1.0829 - mae: 1.0829\n",
      "Epoch 183/500\n",
      "8/8 [==============================] - 0s 12ms/step - loss: 1.2567 - mae: 1.2567\n",
      "Epoch 184/500\n",
      "8/8 [==============================] - 0s 9ms/step - loss: 1.1735 - mae: 1.1735\n",
      "Epoch 185/500\n",
      "8/8 [==============================] - 0s 6ms/step - loss: 1.0530 - mae: 1.0530\n",
      "Epoch 186/500\n",
      "8/8 [==============================] - 0s 9ms/step - loss: 0.4241 - mae: 0.4241\n",
      "Epoch 187/500\n",
      "8/8 [==============================] - 0s 6ms/step - loss: 0.3628 - mae: 0.3628\n",
      "Epoch 188/500\n",
      "8/8 [==============================] - 0s 9ms/step - loss: 0.4108 - mae: 0.4108\n",
      "Epoch 189/500\n",
      "8/8 [==============================] - 0s 7ms/step - loss: 0.4385 - mae: 0.4385\n",
      "Epoch 190/500\n",
      "8/8 [==============================] - 0s 6ms/step - loss: 0.6691 - mae: 0.6691\n",
      "Epoch 191/500\n",
      "8/8 [==============================] - 0s 5ms/step - loss: 0.3366 - mae: 0.3366\n",
      "Epoch 192/500\n",
      "8/8 [==============================] - 0s 6ms/step - loss: 0.4237 - mae: 0.4237\n",
      "Epoch 193/500\n",
      "8/8 [==============================] - 0s 6ms/step - loss: 0.4773 - mae: 0.4773\n",
      "Epoch 194/500\n",
      "8/8 [==============================] - 0s 5ms/step - loss: 0.4916 - mae: 0.4916\n",
      "Epoch 195/500\n",
      "8/8 [==============================] - 0s 5ms/step - loss: 0.4273 - mae: 0.4273\n",
      "Epoch 196/500\n",
      "8/8 [==============================] - 0s 6ms/step - loss: 0.3942 - mae: 0.3942\n",
      "Epoch 197/500\n",
      "8/8 [==============================] - 0s 7ms/step - loss: 0.7043 - mae: 0.7043\n",
      "Epoch 198/500\n",
      "8/8 [==============================] - 0s 6ms/step - loss: 0.4646 - mae: 0.4646\n",
      "Epoch 199/500\n",
      "8/8 [==============================] - 0s 7ms/step - loss: 0.5561 - mae: 0.5561\n",
      "Epoch 200/500\n",
      "8/8 [==============================] - 0s 6ms/step - loss: 0.5780 - mae: 0.5780\n",
      "Epoch 201/500\n",
      "8/8 [==============================] - 0s 8ms/step - loss: 0.5625 - mae: 0.5625\n",
      "Epoch 202/500\n",
      "8/8 [==============================] - 0s 9ms/step - loss: 0.5054 - mae: 0.5054\n",
      "Epoch 203/500\n",
      "8/8 [==============================] - 0s 9ms/step - loss: 0.5549 - mae: 0.5549\n",
      "Epoch 204/500\n",
      "8/8 [==============================] - 0s 5ms/step - loss: 0.4316 - mae: 0.4316\n",
      "Epoch 205/500\n",
      "8/8 [==============================] - 0s 6ms/step - loss: 0.5282 - mae: 0.5282\n",
      "Epoch 206/500\n",
      "8/8 [==============================] - 0s 7ms/step - loss: 0.6975 - mae: 0.6975\n",
      "Epoch 207/500\n",
      "8/8 [==============================] - 0s 6ms/step - loss: 0.6299 - mae: 0.6299\n",
      "Epoch 208/500\n",
      "8/8 [==============================] - 0s 5ms/step - loss: 0.7971 - mae: 0.7971\n",
      "Epoch 209/500\n",
      "8/8 [==============================] - 0s 5ms/step - loss: 0.6942 - mae: 0.6942\n",
      "Epoch 210/500\n",
      "8/8 [==============================] - 0s 5ms/step - loss: 0.4819 - mae: 0.4819\n",
      "Epoch 211/500\n",
      "8/8 [==============================] - 0s 5ms/step - loss: 0.5707 - mae: 0.5707\n",
      "Epoch 212/500\n",
      "8/8 [==============================] - 0s 6ms/step - loss: 0.6038 - mae: 0.6038\n",
      "Epoch 213/500\n",
      "8/8 [==============================] - 0s 8ms/step - loss: 0.5713 - mae: 0.5713\n",
      "Epoch 214/500\n",
      "8/8 [==============================] - 0s 5ms/step - loss: 0.6128 - mae: 0.6128\n",
      "Epoch 215/500\n",
      "8/8 [==============================] - 0s 6ms/step - loss: 0.3820 - mae: 0.3820\n",
      "Epoch 216/500\n",
      "8/8 [==============================] - 0s 6ms/step - loss: 0.3309 - mae: 0.3309\n",
      "Epoch 217/500\n",
      "8/8 [==============================] - 0s 5ms/step - loss: 0.9821 - mae: 0.9821\n",
      "Epoch 218/500\n",
      "8/8 [==============================] - 0s 5ms/step - loss: 1.0069 - mae: 1.0069\n",
      "Epoch 219/500\n",
      "8/8 [==============================] - 0s 5ms/step - loss: 0.6407 - mae: 0.6407\n",
      "Epoch 220/500\n",
      "8/8 [==============================] - 0s 5ms/step - loss: 0.4773 - mae: 0.4773\n",
      "Epoch 221/500\n",
      "8/8 [==============================] - 0s 5ms/step - loss: 0.3974 - mae: 0.3974\n",
      "Epoch 222/500\n",
      "8/8 [==============================] - 0s 4ms/step - loss: 0.6822 - mae: 0.6822\n",
      "Epoch 223/500\n",
      "8/8 [==============================] - 0s 5ms/step - loss: 0.6308 - mae: 0.6308\n",
      "Epoch 224/500\n",
      "8/8 [==============================] - 0s 5ms/step - loss: 0.4222 - mae: 0.4222\n",
      "Epoch 225/500\n",
      "8/8 [==============================] - 0s 6ms/step - loss: 0.3990 - mae: 0.3990\n",
      "Epoch 226/500\n",
      "8/8 [==============================] - 0s 5ms/step - loss: 0.5047 - mae: 0.5047\n",
      "Epoch 227/500\n",
      "8/8 [==============================] - 0s 5ms/step - loss: 0.5966 - mae: 0.5966\n",
      "Epoch 228/500\n",
      "8/8 [==============================] - 0s 5ms/step - loss: 0.3896 - mae: 0.3896\n",
      "Epoch 229/500\n",
      "8/8 [==============================] - 0s 5ms/step - loss: 0.4846 - mae: 0.4846\n",
      "Epoch 230/500\n",
      "8/8 [==============================] - 0s 5ms/step - loss: 0.6636 - mae: 0.6636\n",
      "Epoch 231/500\n",
      "8/8 [==============================] - 0s 4ms/step - loss: 0.5427 - mae: 0.5427\n",
      "Epoch 232/500\n",
      "8/8 [==============================] - 0s 6ms/step - loss: 0.4035 - mae: 0.4035\n",
      "Epoch 233/500\n",
      "8/8 [==============================] - 0s 4ms/step - loss: 0.3211 - mae: 0.3211\n",
      "Epoch 234/500\n",
      "8/8 [==============================] - 0s 5ms/step - loss: 0.5890 - mae: 0.5890\n",
      "Epoch 235/500\n",
      "8/8 [==============================] - 0s 6ms/step - loss: 0.4712 - mae: 0.4712\n",
      "Epoch 236/500\n",
      "8/8 [==============================] - 0s 5ms/step - loss: 0.3462 - mae: 0.3462\n",
      "Epoch 237/500\n",
      "8/8 [==============================] - 0s 5ms/step - loss: 0.6492 - mae: 0.6492\n",
      "Epoch 238/500\n",
      "8/8 [==============================] - 0s 5ms/step - loss: 0.5286 - mae: 0.5286\n",
      "Epoch 239/500\n",
      "8/8 [==============================] - 0s 5ms/step - loss: 0.6805 - mae: 0.6805\n",
      "Epoch 240/500\n",
      "8/8 [==============================] - 0s 6ms/step - loss: 0.6752 - mae: 0.6752\n",
      "Epoch 241/500\n",
      "8/8 [==============================] - 0s 5ms/step - loss: 0.3942 - mae: 0.3942\n",
      "Epoch 242/500\n",
      "8/8 [==============================] - 0s 5ms/step - loss: 0.3448 - mae: 0.3448\n",
      "Epoch 243/500\n",
      "8/8 [==============================] - 0s 4ms/step - loss: 0.3374 - mae: 0.3374\n",
      "Epoch 244/500\n",
      "8/8 [==============================] - 0s 5ms/step - loss: 0.4941 - mae: 0.4941\n",
      "Epoch 245/500\n",
      "8/8 [==============================] - 0s 6ms/step - loss: 0.7680 - mae: 0.7680\n",
      "Epoch 246/500\n",
      "8/8 [==============================] - 0s 5ms/step - loss: 0.4991 - mae: 0.4991\n",
      "Epoch 247/500\n",
      "8/8 [==============================] - 0s 4ms/step - loss: 0.7516 - mae: 0.7516\n",
      "Epoch 248/500\n",
      "8/8 [==============================] - 0s 5ms/step - loss: 1.3503 - mae: 1.3503\n",
      "Epoch 249/500\n",
      "8/8 [==============================] - 0s 4ms/step - loss: 0.5148 - mae: 0.5148\n",
      "Epoch 250/500\n",
      "8/8 [==============================] - 0s 4ms/step - loss: 0.4517 - mae: 0.4517\n",
      "Epoch 251/500\n",
      "8/8 [==============================] - 0s 4ms/step - loss: 0.7026 - mae: 0.7026\n",
      "Epoch 252/500\n",
      "8/8 [==============================] - 0s 5ms/step - loss: 0.6248 - mae: 0.6248\n",
      "Epoch 253/500\n",
      "8/8 [==============================] - 0s 6ms/step - loss: 0.6770 - mae: 0.6770\n",
      "Epoch 254/500\n",
      "8/8 [==============================] - 0s 5ms/step - loss: 0.6857 - mae: 0.6857\n",
      "Epoch 255/500\n",
      "8/8 [==============================] - 0s 5ms/step - loss: 0.6987 - mae: 0.6987\n",
      "Epoch 256/500\n",
      "8/8 [==============================] - 0s 5ms/step - loss: 0.6752 - mae: 0.6752\n",
      "Epoch 257/500\n",
      "8/8 [==============================] - 0s 8ms/step - loss: 0.6040 - mae: 0.6040\n",
      "Epoch 258/500\n",
      "8/8 [==============================] - 0s 5ms/step - loss: 0.3573 - mae: 0.3573\n",
      "Epoch 259/500\n",
      "8/8 [==============================] - 0s 5ms/step - loss: 0.3255 - mae: 0.3255\n",
      "Epoch 260/500\n",
      "8/8 [==============================] - 0s 6ms/step - loss: 0.5428 - mae: 0.5428\n",
      "Epoch 261/500\n",
      "8/8 [==============================] - 0s 5ms/step - loss: 0.9497 - mae: 0.9497\n",
      "Epoch 262/500\n",
      "8/8 [==============================] - 0s 5ms/step - loss: 0.5313 - mae: 0.5313\n",
      "Epoch 263/500\n"
     ]
    },
    {
     "name": "stdout",
     "output_type": "stream",
     "text": [
      "8/8 [==============================] - 0s 5ms/step - loss: 0.6049 - mae: 0.6049\n",
      "Epoch 264/500\n",
      "8/8 [==============================] - 0s 5ms/step - loss: 0.3891 - mae: 0.3891\n",
      "Epoch 265/500\n",
      "8/8 [==============================] - 0s 5ms/step - loss: 0.5018 - mae: 0.5018\n",
      "Epoch 266/500\n",
      "8/8 [==============================] - 0s 5ms/step - loss: 0.5691 - mae: 0.5691\n",
      "Epoch 267/500\n",
      "8/8 [==============================] - 0s 4ms/step - loss: 0.4181 - mae: 0.4181\n",
      "Epoch 268/500\n",
      "8/8 [==============================] - 0s 4ms/step - loss: 0.5801 - mae: 0.5801\n",
      "Epoch 269/500\n",
      "8/8 [==============================] - 0s 5ms/step - loss: 0.5679 - mae: 0.5679\n",
      "Epoch 270/500\n",
      "8/8 [==============================] - 0s 5ms/step - loss: 0.6445 - mae: 0.6445\n",
      "Epoch 271/500\n",
      "8/8 [==============================] - 0s 5ms/step - loss: 0.4573 - mae: 0.4573\n",
      "Epoch 272/500\n",
      "8/8 [==============================] - 0s 6ms/step - loss: 0.5823 - mae: 0.5823\n",
      "Epoch 273/500\n",
      "8/8 [==============================] - 0s 5ms/step - loss: 0.5750 - mae: 0.5750\n",
      "Epoch 274/500\n",
      "8/8 [==============================] - 0s 5ms/step - loss: 0.3755 - mae: 0.3755\n",
      "Epoch 275/500\n",
      "8/8 [==============================] - 0s 5ms/step - loss: 0.3637 - mae: 0.3637\n",
      "Epoch 276/500\n",
      "8/8 [==============================] - 0s 5ms/step - loss: 0.5064 - mae: 0.5064\n",
      "Epoch 277/500\n",
      "8/8 [==============================] - 0s 5ms/step - loss: 0.5060 - mae: 0.5060\n",
      "Epoch 278/500\n",
      "8/8 [==============================] - 0s 4ms/step - loss: 0.6104 - mae: 0.6104\n",
      "Epoch 279/500\n",
      "8/8 [==============================] - 0s 5ms/step - loss: 0.4052 - mae: 0.4052\n",
      "Epoch 280/500\n",
      "8/8 [==============================] - 0s 5ms/step - loss: 0.4322 - mae: 0.4322\n",
      "Epoch 281/500\n",
      "8/8 [==============================] - 0s 5ms/step - loss: 0.6737 - mae: 0.6737\n",
      "Epoch 282/500\n",
      "8/8 [==============================] - 0s 5ms/step - loss: 0.4107 - mae: 0.4107\n",
      "Epoch 283/500\n",
      "8/8 [==============================] - 0s 5ms/step - loss: 0.3495 - mae: 0.3495\n",
      "Epoch 284/500\n",
      "8/8 [==============================] - 0s 6ms/step - loss: 0.4102 - mae: 0.4102\n",
      "Epoch 285/500\n",
      "8/8 [==============================] - 0s 5ms/step - loss: 0.6300 - mae: 0.6300\n",
      "Epoch 286/500\n",
      "8/8 [==============================] - 0s 6ms/step - loss: 0.3700 - mae: 0.3700\n",
      "Epoch 287/500\n",
      "8/8 [==============================] - 0s 5ms/step - loss: 0.3824 - mae: 0.3824\n",
      "Epoch 288/500\n",
      "8/8 [==============================] - 0s 8ms/step - loss: 0.3640 - mae: 0.3640\n",
      "Epoch 289/500\n",
      "8/8 [==============================] - 0s 9ms/step - loss: 0.5121 - mae: 0.5121\n",
      "Epoch 290/500\n",
      "8/8 [==============================] - 0s 8ms/step - loss: 0.5548 - mae: 0.5548\n",
      "Epoch 291/500\n",
      "8/8 [==============================] - 0s 6ms/step - loss: 0.5224 - mae: 0.5224\n",
      "Epoch 292/500\n",
      "8/8 [==============================] - 0s 6ms/step - loss: 0.4399 - mae: 0.4399\n",
      "Epoch 293/500\n",
      "8/8 [==============================] - 0s 8ms/step - loss: 0.4636 - mae: 0.4636\n",
      "Epoch 294/500\n",
      "8/8 [==============================] - 0s 8ms/step - loss: 0.7370 - mae: 0.7370\n",
      "Epoch 295/500\n",
      "8/8 [==============================] - 0s 5ms/step - loss: 0.8297 - mae: 0.8297\n",
      "Epoch 296/500\n",
      "8/8 [==============================] - 0s 6ms/step - loss: 0.7313 - mae: 0.7313\n",
      "Epoch 297/500\n",
      "8/8 [==============================] - 0s 5ms/step - loss: 0.6525 - mae: 0.6525\n",
      "Epoch 298/500\n",
      "8/8 [==============================] - 0s 4ms/step - loss: 0.4857 - mae: 0.4857\n",
      "Epoch 299/500\n",
      "8/8 [==============================] - 0s 5ms/step - loss: 0.7038 - mae: 0.7038\n",
      "Epoch 300/500\n",
      "8/8 [==============================] - 0s 5ms/step - loss: 0.4146 - mae: 0.4146\n",
      "Epoch 301/500\n",
      "8/8 [==============================] - 0s 5ms/step - loss: 0.3399 - mae: 0.3399\n",
      "Epoch 302/500\n",
      "8/8 [==============================] - 0s 5ms/step - loss: 0.6739 - mae: 0.6739\n",
      "Epoch 303/500\n",
      "8/8 [==============================] - 0s 5ms/step - loss: 0.6956 - mae: 0.6956\n",
      "Epoch 304/500\n",
      "8/8 [==============================] - 0s 5ms/step - loss: 0.4365 - mae: 0.4365\n",
      "Epoch 305/500\n",
      "8/8 [==============================] - 0s 5ms/step - loss: 0.6344 - mae: 0.6344\n",
      "Epoch 306/500\n",
      "8/8 [==============================] - 0s 5ms/step - loss: 0.6505 - mae: 0.6505\n",
      "Epoch 307/500\n",
      "8/8 [==============================] - 0s 9ms/step - loss: 0.6056 - mae: 0.6056\n",
      "Epoch 308/500\n",
      "8/8 [==============================] - 0s 5ms/step - loss: 0.4895 - mae: 0.4895\n",
      "Epoch 309/500\n",
      "8/8 [==============================] - 0s 8ms/step - loss: 0.4750 - mae: 0.4750\n",
      "Epoch 310/500\n",
      "8/8 [==============================] - 0s 8ms/step - loss: 0.6171 - mae: 0.6171\n",
      "Epoch 311/500\n",
      "8/8 [==============================] - 0s 5ms/step - loss: 0.4027 - mae: 0.4027\n",
      "Epoch 312/500\n",
      "8/8 [==============================] - 0s 7ms/step - loss: 0.6302 - mae: 0.6302\n",
      "Epoch 313/500\n",
      "8/8 [==============================] - 0s 6ms/step - loss: 0.6334 - mae: 0.6334\n",
      "Epoch 314/500\n",
      "8/8 [==============================] - 0s 6ms/step - loss: 0.4423 - mae: 0.4423\n",
      "Epoch 315/500\n",
      "8/8 [==============================] - 0s 7ms/step - loss: 0.3342 - mae: 0.3342\n",
      "Epoch 316/500\n",
      "8/8 [==============================] - 0s 6ms/step - loss: 0.6023 - mae: 0.6023\n",
      "Epoch 317/500\n",
      "8/8 [==============================] - 0s 5ms/step - loss: 0.4574 - mae: 0.4574\n",
      "Epoch 318/500\n",
      "8/8 [==============================] - 0s 6ms/step - loss: 0.5237 - mae: 0.5237\n",
      "Epoch 319/500\n",
      "8/8 [==============================] - 0s 10ms/step - loss: 0.7047 - mae: 0.7047\n",
      "Epoch 320/500\n",
      "8/8 [==============================] - 0s 5ms/step - loss: 0.6571 - mae: 0.6571\n",
      "Epoch 321/500\n",
      "8/8 [==============================] - 0s 5ms/step - loss: 0.5844 - mae: 0.5844\n",
      "Epoch 322/500\n",
      "8/8 [==============================] - 0s 6ms/step - loss: 0.5760 - mae: 0.5760\n",
      "Epoch 323/500\n",
      "8/8 [==============================] - 0s 4ms/step - loss: 0.6328 - mae: 0.6328\n",
      "Epoch 324/500\n",
      "8/8 [==============================] - 0s 5ms/step - loss: 0.6446 - mae: 0.6446\n",
      "Epoch 325/500\n",
      "8/8 [==============================] - 0s 5ms/step - loss: 0.5220 - mae: 0.5220\n",
      "Epoch 326/500\n",
      "8/8 [==============================] - 0s 5ms/step - loss: 0.6662 - mae: 0.6662\n",
      "Epoch 327/500\n",
      "8/8 [==============================] - 0s 5ms/step - loss: 0.6264 - mae: 0.6264\n",
      "Epoch 328/500\n",
      "8/8 [==============================] - 0s 4ms/step - loss: 0.6294 - mae: 0.6294\n",
      "Epoch 329/500\n",
      "8/8 [==============================] - 0s 5ms/step - loss: 0.6453 - mae: 0.6453\n",
      "Epoch 330/500\n",
      "8/8 [==============================] - 0s 5ms/step - loss: 0.6412 - mae: 0.6412\n",
      "Epoch 331/500\n",
      "8/8 [==============================] - 0s 5ms/step - loss: 0.3693 - mae: 0.3693\n",
      "Epoch 332/500\n",
      "8/8 [==============================] - 0s 5ms/step - loss: 0.3828 - mae: 0.3828\n",
      "Epoch 333/500\n",
      "8/8 [==============================] - 0s 5ms/step - loss: 0.3834 - mae: 0.3834\n",
      "Epoch 334/500\n",
      "8/8 [==============================] - 0s 5ms/step - loss: 0.5772 - mae: 0.5772\n",
      "Epoch 335/500\n",
      "8/8 [==============================] - 0s 5ms/step - loss: 0.7377 - mae: 0.7377\n",
      "Epoch 336/500\n",
      "8/8 [==============================] - 0s 5ms/step - loss: 0.5703 - mae: 0.5703\n",
      "Epoch 337/500\n",
      "8/8 [==============================] - 0s 6ms/step - loss: 0.5637 - mae: 0.5637\n",
      "Epoch 338/500\n",
      "8/8 [==============================] - 0s 4ms/step - loss: 0.7441 - mae: 0.7441\n",
      "Epoch 339/500\n",
      "8/8 [==============================] - 0s 7ms/step - loss: 1.0672 - mae: 1.0672\n",
      "Epoch 340/500\n",
      "8/8 [==============================] - 0s 8ms/step - loss: 1.3135 - mae: 1.3135\n",
      "Epoch 341/500\n",
      "8/8 [==============================] - 0s 6ms/step - loss: 1.2772 - mae: 1.2772\n",
      "Epoch 342/500\n",
      "8/8 [==============================] - 0s 6ms/step - loss: 0.6879 - mae: 0.6879\n",
      "Epoch 343/500\n",
      "8/8 [==============================] - 0s 6ms/step - loss: 0.4298 - mae: 0.4298\n",
      "Epoch 344/500\n",
      "8/8 [==============================] - 0s 6ms/step - loss: 0.3978 - mae: 0.3978\n",
      "Epoch 345/500\n",
      "8/8 [==============================] - 0s 4ms/step - loss: 0.8682 - mae: 0.8682\n",
      "Epoch 346/500\n",
      "8/8 [==============================] - 0s 4ms/step - loss: 0.8034 - mae: 0.8034\n",
      "Epoch 347/500\n",
      "8/8 [==============================] - 0s 6ms/step - loss: 0.4953 - mae: 0.4953\n",
      "Epoch 348/500\n",
      "8/8 [==============================] - 0s 5ms/step - loss: 0.6271 - mae: 0.6271\n",
      "Epoch 349/500\n",
      "8/8 [==============================] - 0s 6ms/step - loss: 0.4338 - mae: 0.4338\n",
      "Epoch 350/500\n"
     ]
    },
    {
     "name": "stdout",
     "output_type": "stream",
     "text": [
      "8/8 [==============================] - 0s 5ms/step - loss: 0.3273 - mae: 0.3273\n",
      "Epoch 351/500\n",
      "8/8 [==============================] - 0s 5ms/step - loss: 0.3378 - mae: 0.3378\n",
      "Epoch 352/500\n",
      "8/8 [==============================] - 0s 5ms/step - loss: 0.3881 - mae: 0.3881\n",
      "Epoch 353/500\n",
      "8/8 [==============================] - 0s 5ms/step - loss: 0.5023 - mae: 0.5023\n",
      "Epoch 354/500\n",
      "8/8 [==============================] - 0s 5ms/step - loss: 0.5722 - mae: 0.5722\n",
      "Epoch 355/500\n",
      "8/8 [==============================] - 0s 5ms/step - loss: 0.4394 - mae: 0.4394\n",
      "Epoch 356/500\n",
      "8/8 [==============================] - 0s 5ms/step - loss: 0.6698 - mae: 0.6698\n",
      "Epoch 357/500\n",
      "8/8 [==============================] - 0s 6ms/step - loss: 0.6804 - mae: 0.6804\n",
      "Epoch 358/500\n",
      "8/8 [==============================] - 0s 5ms/step - loss: 0.5009 - mae: 0.5009\n",
      "Epoch 359/500\n",
      "8/8 [==============================] - 0s 5ms/step - loss: 0.6811 - mae: 0.6811\n",
      "Epoch 360/500\n",
      "8/8 [==============================] - 0s 6ms/step - loss: 0.6822 - mae: 0.6822\n",
      "Epoch 361/500\n",
      "8/8 [==============================] - 0s 4ms/step - loss: 0.8374 - mae: 0.8374\n",
      "Epoch 362/500\n",
      "8/8 [==============================] - 0s 5ms/step - loss: 0.6980 - mae: 0.6980\n",
      "Epoch 363/500\n",
      "8/8 [==============================] - 0s 5ms/step - loss: 0.6348 - mae: 0.6348\n",
      "Epoch 364/500\n",
      "8/8 [==============================] - 0s 4ms/step - loss: 0.5621 - mae: 0.5621\n",
      "Epoch 365/500\n",
      "8/8 [==============================] - 0s 4ms/step - loss: 0.6371 - mae: 0.6371\n",
      "Epoch 366/500\n",
      "8/8 [==============================] - 0s 5ms/step - loss: 0.3846 - mae: 0.3846\n",
      "Epoch 367/500\n",
      "8/8 [==============================] - 0s 6ms/step - loss: 0.4366 - mae: 0.4366\n",
      "Epoch 368/500\n",
      "8/8 [==============================] - 0s 5ms/step - loss: 0.3582 - mae: 0.3582\n",
      "Epoch 369/500\n",
      "8/8 [==============================] - 0s 4ms/step - loss: 0.4699 - mae: 0.4699\n",
      "Epoch 370/500\n",
      "8/8 [==============================] - 0s 5ms/step - loss: 0.6231 - mae: 0.6231\n",
      "Epoch 371/500\n",
      "8/8 [==============================] - 0s 4ms/step - loss: 0.6469 - mae: 0.6469\n",
      "Epoch 372/500\n",
      "8/8 [==============================] - 0s 5ms/step - loss: 0.6438 - mae: 0.6438\n",
      "Epoch 373/500\n",
      "8/8 [==============================] - 0s 5ms/step - loss: 0.5450 - mae: 0.5450\n",
      "Epoch 374/500\n",
      "8/8 [==============================] - 0s 5ms/step - loss: 0.6101 - mae: 0.6101\n",
      "Epoch 375/500\n",
      "8/8 [==============================] - 0s 4ms/step - loss: 0.7894 - mae: 0.7894\n",
      "Epoch 376/500\n",
      "8/8 [==============================] - 0s 4ms/step - loss: 0.8921 - mae: 0.8921\n",
      "Epoch 377/500\n",
      "8/8 [==============================] - 0s 5ms/step - loss: 0.3727 - mae: 0.3727\n",
      "Epoch 378/500\n",
      "8/8 [==============================] - 0s 5ms/step - loss: 0.4939 - mae: 0.4939\n",
      "Epoch 379/500\n",
      "8/8 [==============================] - 0s 5ms/step - loss: 0.5629 - mae: 0.5629\n",
      "Epoch 380/500\n",
      "8/8 [==============================] - 0s 4ms/step - loss: 0.4056 - mae: 0.4056\n",
      "Epoch 381/500\n",
      "8/8 [==============================] - 0s 4ms/step - loss: 0.5548 - mae: 0.5548\n",
      "Epoch 382/500\n",
      "8/8 [==============================] - 0s 4ms/step - loss: 0.7511 - mae: 0.7511\n",
      "Epoch 383/500\n",
      "8/8 [==============================] - 0s 5ms/step - loss: 0.5203 - mae: 0.5203\n",
      "Epoch 384/500\n",
      "8/8 [==============================] - 0s 4ms/step - loss: 1.0533 - mae: 1.0533\n",
      "Epoch 385/500\n",
      "8/8 [==============================] - 0s 4ms/step - loss: 1.0583 - mae: 1.0583\n",
      "Epoch 386/500\n",
      "8/8 [==============================] - 0s 4ms/step - loss: 0.8295 - mae: 0.8295\n",
      "Epoch 387/500\n",
      "8/8 [==============================] - 0s 4ms/step - loss: 0.5817 - mae: 0.5817\n",
      "Epoch 388/500\n",
      "8/8 [==============================] - 0s 4ms/step - loss: 0.3971 - mae: 0.3971\n",
      "Epoch 389/500\n",
      "8/8 [==============================] - 0s 4ms/step - loss: 0.6579 - mae: 0.6579\n",
      "Epoch 390/500\n",
      "8/8 [==============================] - 0s 5ms/step - loss: 0.5586 - mae: 0.5586\n",
      "Epoch 391/500\n",
      "8/8 [==============================] - 0s 4ms/step - loss: 0.6968 - mae: 0.6968\n",
      "Epoch 392/500\n",
      "8/8 [==============================] - 0s 4ms/step - loss: 0.3648 - mae: 0.3648\n",
      "Epoch 393/500\n",
      "8/8 [==============================] - 0s 4ms/step - loss: 0.3742 - mae: 0.3742\n",
      "Epoch 394/500\n",
      "8/8 [==============================] - 0s 5ms/step - loss: 0.3908 - mae: 0.3908\n",
      "Epoch 395/500\n",
      "8/8 [==============================] - 0s 4ms/step - loss: 0.5393 - mae: 0.5393\n",
      "Epoch 396/500\n",
      "8/8 [==============================] - 0s 5ms/step - loss: 0.7551 - mae: 0.7551\n",
      "Epoch 397/500\n",
      "8/8 [==============================] - 0s 4ms/step - loss: 0.6536 - mae: 0.6536\n",
      "Epoch 398/500\n",
      "8/8 [==============================] - 0s 4ms/step - loss: 0.4364 - mae: 0.4364\n",
      "Epoch 399/500\n",
      "8/8 [==============================] - 0s 4ms/step - loss: 0.6228 - mae: 0.6228\n",
      "Epoch 400/500\n",
      "8/8 [==============================] - 0s 6ms/step - loss: 0.4185 - mae: 0.4185\n",
      "Epoch 401/500\n",
      "8/8 [==============================] - 0s 8ms/step - loss: 0.3458 - mae: 0.3458\n",
      "Epoch 402/500\n",
      "8/8 [==============================] - 0s 6ms/step - loss: 0.3560 - mae: 0.3560\n",
      "Epoch 403/500\n",
      "8/8 [==============================] - 0s 6ms/step - loss: 0.4587 - mae: 0.4587\n",
      "Epoch 404/500\n",
      "8/8 [==============================] - 0s 5ms/step - loss: 0.7200 - mae: 0.7200\n",
      "Epoch 405/500\n",
      "8/8 [==============================] - 0s 5ms/step - loss: 0.9989 - mae: 0.9989\n",
      "Epoch 406/500\n",
      "8/8 [==============================] - 0s 5ms/step - loss: 1.1204 - mae: 1.1204\n",
      "Epoch 407/500\n",
      "8/8 [==============================] - 0s 4ms/step - loss: 1.1050 - mae: 1.1050\n",
      "Epoch 408/500\n",
      "8/8 [==============================] - 0s 5ms/step - loss: 0.8290 - mae: 0.8290\n",
      "Epoch 409/500\n",
      "8/8 [==============================] - 0s 5ms/step - loss: 0.8660 - mae: 0.8660\n",
      "Epoch 410/500\n",
      "8/8 [==============================] - 0s 5ms/step - loss: 1.4663 - mae: 1.4663\n",
      "Epoch 411/500\n",
      "8/8 [==============================] - 0s 5ms/step - loss: 1.0471 - mae: 1.0471\n",
      "Epoch 412/500\n",
      "8/8 [==============================] - 0s 5ms/step - loss: 0.8716 - mae: 0.8716\n",
      "Epoch 413/500\n",
      "8/8 [==============================] - 0s 5ms/step - loss: 0.5512 - mae: 0.5512\n",
      "Epoch 414/500\n",
      "8/8 [==============================] - 0s 5ms/step - loss: 0.6500 - mae: 0.6500\n",
      "Epoch 415/500\n",
      "8/8 [==============================] - 0s 5ms/step - loss: 0.6784 - mae: 0.6784\n",
      "Epoch 416/500\n",
      "8/8 [==============================] - 0s 5ms/step - loss: 0.3514 - mae: 0.3514\n",
      "Epoch 417/500\n",
      "8/8 [==============================] - 0s 4ms/step - loss: 0.3098 - mae: 0.3098\n",
      "Epoch 418/500\n",
      "8/8 [==============================] - 0s 5ms/step - loss: 0.4892 - mae: 0.4892\n",
      "Epoch 419/500\n",
      "8/8 [==============================] - 0s 4ms/step - loss: 0.6435 - mae: 0.6435\n",
      "Epoch 420/500\n",
      "8/8 [==============================] - 0s 4ms/step - loss: 0.7403 - mae: 0.7403\n",
      "Epoch 421/500\n",
      "8/8 [==============================] - 0s 5ms/step - loss: 0.6080 - mae: 0.6080\n",
      "Epoch 422/500\n",
      "8/8 [==============================] - 0s 4ms/step - loss: 0.5972 - mae: 0.5972\n",
      "Epoch 423/500\n",
      "8/8 [==============================] - 0s 4ms/step - loss: 0.4370 - mae: 0.4370\n",
      "Epoch 424/500\n",
      "8/8 [==============================] - 0s 4ms/step - loss: 0.7767 - mae: 0.7767\n",
      "Epoch 425/500\n",
      "8/8 [==============================] - 0s 4ms/step - loss: 0.6555 - mae: 0.6555\n",
      "Epoch 426/500\n",
      "8/8 [==============================] - 0s 4ms/step - loss: 0.5579 - mae: 0.5579\n",
      "Epoch 427/500\n",
      "8/8 [==============================] - 0s 4ms/step - loss: 0.4622 - mae: 0.4622\n",
      "Epoch 428/500\n",
      "8/8 [==============================] - 0s 4ms/step - loss: 0.3525 - mae: 0.3525\n",
      "Epoch 429/500\n",
      "8/8 [==============================] - 0s 5ms/step - loss: 0.3791 - mae: 0.3791\n",
      "Epoch 430/500\n",
      "8/8 [==============================] - 0s 7ms/step - loss: 0.3634 - mae: 0.3634\n",
      "Epoch 431/500\n",
      "8/8 [==============================] - 0s 6ms/step - loss: 0.3347 - mae: 0.3347\n",
      "Epoch 432/500\n",
      "8/8 [==============================] - 0s 5ms/step - loss: 0.3486 - mae: 0.3486\n",
      "Epoch 433/500\n",
      "8/8 [==============================] - 0s 5ms/step - loss: 0.3576 - mae: 0.3576\n",
      "Epoch 434/500\n",
      "8/8 [==============================] - 0s 5ms/step - loss: 0.3467 - mae: 0.3467\n",
      "Epoch 435/500\n",
      "8/8 [==============================] - 0s 4ms/step - loss: 0.6562 - mae: 0.6562\n",
      "Epoch 436/500\n",
      "8/8 [==============================] - 0s 5ms/step - loss: 0.6139 - mae: 0.6139\n",
      "Epoch 437/500\n"
     ]
    },
    {
     "name": "stdout",
     "output_type": "stream",
     "text": [
      "8/8 [==============================] - 0s 4ms/step - loss: 0.5156 - mae: 0.5156\n",
      "Epoch 438/500\n",
      "8/8 [==============================] - 0s 4ms/step - loss: 0.6632 - mae: 0.6632\n",
      "Epoch 439/500\n",
      "8/8 [==============================] - 0s 4ms/step - loss: 0.4311 - mae: 0.4311\n",
      "Epoch 440/500\n",
      "8/8 [==============================] - 0s 5ms/step - loss: 0.3881 - mae: 0.3881\n",
      "Epoch 441/500\n",
      "8/8 [==============================] - 0s 4ms/step - loss: 0.5506 - mae: 0.5506\n",
      "Epoch 442/500\n",
      "8/8 [==============================] - 0s 5ms/step - loss: 0.6070 - mae: 0.6070\n",
      "Epoch 443/500\n",
      "8/8 [==============================] - 0s 6ms/step - loss: 0.4195 - mae: 0.4195\n",
      "Epoch 444/500\n",
      "8/8 [==============================] - 0s 4ms/step - loss: 0.2939 - mae: 0.2939\n",
      "Epoch 445/500\n",
      "8/8 [==============================] - 0s 5ms/step - loss: 0.4307 - mae: 0.4307\n",
      "Epoch 446/500\n",
      "8/8 [==============================] - 0s 5ms/step - loss: 0.5633 - mae: 0.5633\n",
      "Epoch 447/500\n",
      "8/8 [==============================] - 0s 4ms/step - loss: 0.5826 - mae: 0.5826\n",
      "Epoch 448/500\n",
      "8/8 [==============================] - 0s 4ms/step - loss: 0.3903 - mae: 0.3903\n",
      "Epoch 449/500\n",
      "8/8 [==============================] - 0s 5ms/step - loss: 0.3575 - mae: 0.3575\n",
      "Epoch 450/500\n",
      "8/8 [==============================] - 0s 4ms/step - loss: 0.4184 - mae: 0.4184\n",
      "Epoch 451/500\n",
      "8/8 [==============================] - 0s 4ms/step - loss: 0.4057 - mae: 0.4057\n",
      "Epoch 452/500\n",
      "8/8 [==============================] - 0s 5ms/step - loss: 0.4255 - mae: 0.4255\n",
      "Epoch 453/500\n",
      "8/8 [==============================] - 0s 5ms/step - loss: 0.3552 - mae: 0.3552\n",
      "Epoch 454/500\n",
      "8/8 [==============================] - 0s 4ms/step - loss: 0.7450 - mae: 0.7450\n",
      "Epoch 455/500\n",
      "8/8 [==============================] - 0s 5ms/step - loss: 0.6784 - mae: 0.6784\n",
      "Epoch 456/500\n",
      "8/8 [==============================] - 0s 8ms/step - loss: 0.4865 - mae: 0.4865\n",
      "Epoch 457/500\n",
      "8/8 [==============================] - 0s 5ms/step - loss: 0.4719 - mae: 0.4719\n",
      "Epoch 458/500\n",
      "8/8 [==============================] - 0s 5ms/step - loss: 0.6779 - mae: 0.6779\n",
      "Epoch 459/500\n",
      "8/8 [==============================] - 0s 5ms/step - loss: 0.4675 - mae: 0.4675\n",
      "Epoch 460/500\n",
      "8/8 [==============================] - 0s 5ms/step - loss: 0.3178 - mae: 0.3178\n",
      "Epoch 461/500\n",
      "8/8 [==============================] - 0s 5ms/step - loss: 0.3584 - mae: 0.3584\n",
      "Epoch 462/500\n",
      "8/8 [==============================] - 0s 4ms/step - loss: 0.4656 - mae: 0.4656\n",
      "Epoch 463/500\n",
      "8/8 [==============================] - 0s 4ms/step - loss: 0.6391 - mae: 0.6391\n",
      "Epoch 464/500\n",
      "8/8 [==============================] - 0s 5ms/step - loss: 0.9158 - mae: 0.9158\n",
      "Epoch 465/500\n",
      "8/8 [==============================] - 0s 4ms/step - loss: 1.3654 - mae: 1.3654\n",
      "Epoch 466/500\n",
      "8/8 [==============================] - 0s 5ms/step - loss: 1.2260 - mae: 1.2260\n",
      "Epoch 467/500\n",
      "8/8 [==============================] - 0s 5ms/step - loss: 1.1741 - mae: 1.1741\n",
      "Epoch 468/500\n",
      "8/8 [==============================] - 0s 5ms/step - loss: 1.2947 - mae: 1.2947\n",
      "Epoch 469/500\n",
      "8/8 [==============================] - 0s 4ms/step - loss: 0.6287 - mae: 0.6287\n",
      "Epoch 470/500\n",
      "8/8 [==============================] - 0s 4ms/step - loss: 0.6102 - mae: 0.6102\n",
      "Epoch 471/500\n",
      "8/8 [==============================] - 0s 5ms/step - loss: 0.5660 - mae: 0.5660\n",
      "Epoch 472/500\n",
      "8/8 [==============================] - 0s 4ms/step - loss: 0.4173 - mae: 0.4173\n",
      "Epoch 473/500\n",
      "8/8 [==============================] - 0s 4ms/step - loss: 0.4207 - mae: 0.4207\n",
      "Epoch 474/500\n",
      "8/8 [==============================] - 0s 5ms/step - loss: 0.5406 - mae: 0.5406\n",
      "Epoch 475/500\n",
      "8/8 [==============================] - 0s 5ms/step - loss: 0.6265 - mae: 0.6265\n",
      "Epoch 476/500\n",
      "8/8 [==============================] - 0s 5ms/step - loss: 0.6373 - mae: 0.6373\n",
      "Epoch 477/500\n",
      "8/8 [==============================] - 0s 4ms/step - loss: 0.5039 - mae: 0.5039\n",
      "Epoch 478/500\n",
      "8/8 [==============================] - 0s 4ms/step - loss: 0.6235 - mae: 0.6235\n",
      "Epoch 479/500\n",
      "8/8 [==============================] - 0s 5ms/step - loss: 0.5122 - mae: 0.5122\n",
      "Epoch 480/500\n",
      "8/8 [==============================] - 0s 4ms/step - loss: 0.5610 - mae: 0.5610\n",
      "Epoch 481/500\n",
      "8/8 [==============================] - 0s 5ms/step - loss: 0.5259 - mae: 0.5259\n",
      "Epoch 482/500\n",
      "8/8 [==============================] - 0s 5ms/step - loss: 0.6323 - mae: 0.6323\n",
      "Epoch 483/500\n",
      "8/8 [==============================] - 0s 5ms/step - loss: 0.6375 - mae: 0.6375\n",
      "Epoch 484/500\n",
      "8/8 [==============================] - 0s 5ms/step - loss: 0.5717 - mae: 0.5717\n",
      "Epoch 485/500\n",
      "8/8 [==============================] - 0s 5ms/step - loss: 0.3527 - mae: 0.3527\n",
      "Epoch 486/500\n",
      "8/8 [==============================] - 0s 5ms/step - loss: 0.4787 - mae: 0.4787\n",
      "Epoch 487/500\n",
      "8/8 [==============================] - 0s 5ms/step - loss: 0.3713 - mae: 0.3713\n",
      "Epoch 488/500\n",
      "8/8 [==============================] - 0s 5ms/step - loss: 0.3350 - mae: 0.3350\n",
      "Epoch 489/500\n",
      "8/8 [==============================] - 0s 5ms/step - loss: 0.4665 - mae: 0.4665\n",
      "Epoch 490/500\n",
      "8/8 [==============================] - 0s 5ms/step - loss: 0.3704 - mae: 0.3704\n",
      "Epoch 491/500\n",
      "8/8 [==============================] - 0s 5ms/step - loss: 0.6257 - mae: 0.6257\n",
      "Epoch 492/500\n",
      "8/8 [==============================] - 0s 4ms/step - loss: 0.4393 - mae: 0.4393\n",
      "Epoch 493/500\n",
      "8/8 [==============================] - 0s 4ms/step - loss: 0.6359 - mae: 0.6359\n",
      "Epoch 494/500\n",
      "8/8 [==============================] - 0s 5ms/step - loss: 0.5109 - mae: 0.5109\n",
      "Epoch 495/500\n",
      "8/8 [==============================] - 0s 5ms/step - loss: 0.4035 - mae: 0.4035\n",
      "Epoch 496/500\n",
      "8/8 [==============================] - 0s 4ms/step - loss: 0.3925 - mae: 0.3925\n",
      "Epoch 497/500\n",
      "8/8 [==============================] - 0s 5ms/step - loss: 0.3099 - mae: 0.3099\n",
      "Epoch 498/500\n",
      "8/8 [==============================] - 0s 6ms/step - loss: 0.4000 - mae: 0.4000\n",
      "Epoch 499/500\n",
      "8/8 [==============================] - 0s 4ms/step - loss: 0.3702 - mae: 0.3702\n",
      "Epoch 500/500\n",
      "8/8 [==============================] - 0s 4ms/step - loss: 0.3859 - mae: 0.3859\n"
     ]
    }
   ],
   "source": [
    "history = model2.fit(x_train, y_train, epochs=500)\n"
   ]
  },
  {
   "cell_type": "code",
   "execution_count": 213,
   "id": "2a1c0dad",
   "metadata": {},
   "outputs": [
    {
     "name": "stdout",
     "output_type": "stream",
     "text": [
      "2/2 [==============================] - 0s 7ms/step\n"
     ]
    },
    {
     "data": {
      "text/plain": [
       "array([0.25978258], dtype=float32)"
      ]
     },
     "execution_count": 213,
     "metadata": {},
     "output_type": "execute_result"
    }
   ],
   "source": [
    "pred2 = model2.predict(x_test)\n",
    "pred2[0]"
   ]
  },
  {
   "cell_type": "code",
   "execution_count": 215,
   "id": "8b3ff675",
   "metadata": {},
   "outputs": [
    {
     "name": "stdout",
     "output_type": "stream",
     "text": [
      "2/2 [==============================] - 0s 5ms/step - loss: 0.0000e+00 - mae: 0.0000e+00\n"
     ]
    },
    {
     "data": {
      "text/plain": [
       "[0.0, 0.0]"
      ]
     },
     "execution_count": 215,
     "metadata": {},
     "output_type": "execute_result"
    }
   ],
   "source": [
    "model2.evaluate(x_test)"
   ]
  },
  {
   "cell_type": "code",
   "execution_count": 291,
   "id": "4c328b30",
   "metadata": {},
   "outputs": [
    {
     "data": {
      "text/plain": [
       "0.49283337459827214"
      ]
     },
     "execution_count": 291,
     "metadata": {},
     "output_type": "execute_result"
    }
   ],
   "source": [
    "model_2 = r2_score(y_test, pred2)\n",
    "model_2"
   ]
  },
  {
   "cell_type": "code",
   "execution_count": 217,
   "id": "2804ed84",
   "metadata": {},
   "outputs": [
    {
     "data": {
      "image/png": "[encoded data removed]",
      "text/plain": [
       "<Figure size 1000x700 with 1 Axes>"
      ]
     },
     "metadata": {},
     "output_type": "display_data"
    }
   ],
   "source": [
    "plot_predict(predictions=pred2)"
   ]
  },
  {
   "cell_type": "markdown",
   "id": "af10645c",
   "metadata": {},
   "source": [
    "# Regressoin "
   ]
  },
  {
   "cell_type": "code",
   "execution_count": 219,
   "id": "1c010a9c",
   "metadata": {},
   "outputs": [],
   "source": [
    "from sklearn.linear_model import LinearRegression"
   ]
  },
  {
   "cell_type": "code",
   "execution_count": 220,
   "id": "fa65205c",
   "metadata": {},
   "outputs": [
    {
     "data": {
      "text/plain": [
       "LinearRegression()"
      ]
     },
     "execution_count": 220,
     "metadata": {},
     "output_type": "execute_result"
    }
   ],
   "source": [
    "Reg = LinearRegression()\n",
    "Reg.fit(x_train, y_train)"
   ]
  },
  {
   "cell_type": "code",
   "execution_count": 222,
   "id": "62f9c504",
   "metadata": {},
   "outputs": [
    {
     "name": "stdout",
     "output_type": "stream",
     "text": [
      "2/2 [==============================] - 0s 5ms/step\n"
     ]
    },
    {
     "data": {
      "text/plain": [
       "array([0.09980098], dtype=float32)"
      ]
     },
     "execution_count": 222,
     "metadata": {},
     "output_type": "execute_result"
    }
   ],
   "source": [
    "pred3 = model.predict(x_test)\n",
    "pred3[0]"
   ]
  },
  {
   "cell_type": "code",
   "execution_count": 293,
   "id": "7dd9db65",
   "metadata": {},
   "outputs": [
    {
     "data": {
      "text/plain": [
       "0.4976522341267712"
      ]
     },
     "execution_count": 293,
     "metadata": {},
     "output_type": "execute_result"
    }
   ],
   "source": [
    "from sklearn.metrics import r2_score\n",
    "\n",
    "model_3 = r2_score(y_test, pred3)\n",
    "model_3"
   ]
  },
  {
   "cell_type": "code",
   "execution_count": 223,
   "id": "8ad48730",
   "metadata": {},
   "outputs": [
    {
     "data": {
      "image/png": "[encoded data removed]",
      "text/plain": [
       "<Figure size 1000x700 with 1 Axes>"
      ]
     },
     "metadata": {},
     "output_type": "display_data"
    }
   ],
   "source": [
    "plot_predict(predictions=pred3)"
   ]
  },
  {
   "cell_type": "code",
   "execution_count": 230,
   "id": "6fb3792e",
   "metadata": {},
   "outputs": [],
   "source": [
    "from sklearn.tree import DecisionTreeRegressor"
   ]
  },
  {
   "cell_type": "code",
   "execution_count": 231,
   "id": "a76a3a1c",
   "metadata": {},
   "outputs": [
    {
     "data": {
      "text/plain": [
       "DecisionTreeRegressor()"
      ]
     },
     "execution_count": 231,
     "metadata": {},
     "output_type": "execute_result"
    }
   ],
   "source": [
    "model4 = DecisionTreeRegressor()\n",
    "model4.fit(x_train, y_train)"
   ]
  },
  {
   "cell_type": "code",
   "execution_count": 233,
   "id": "fb893db0",
   "metadata": {},
   "outputs": [
    {
     "name": "stderr",
     "output_type": "stream",
     "text": [
      "C:\\Users\\Nazbeen\\anaconda3\\lib\\site-packages\\sklearn\\base.py:443: UserWarning: X has feature names, but DecisionTreeRegressor was fitted without feature names\n",
      "  warnings.warn(\n"
     ]
    },
    {
     "data": {
      "text/plain": [
       "array([0., 0., 0., 0., 1., 0., 1., 0., 0., 1., 1., 1., 1., 1., 1., 1., 1.,\n",
       "       0., 0., 0., 0., 0., 1., 1., 0., 0., 0., 1., 0., 1., 0., 0., 0., 1.,\n",
       "       1., 0., 0., 1., 1., 1., 1., 1., 1., 0., 1., 0., 0., 1., 0., 0., 0.,\n",
       "       0., 0., 0., 0., 0., 0., 1., 0., 0., 0.])"
      ]
     },
     "execution_count": 233,
     "metadata": {},
     "output_type": "execute_result"
    }
   ],
   "source": [
    "pred4= model4.predict(x_test)\n",
    "pred4"
   ]
  },
  {
   "cell_type": "code",
   "execution_count": 295,
   "id": "8f0cab25",
   "metadata": {},
   "outputs": [
    {
     "data": {
      "text/plain": [
       "0.2769396551724138"
      ]
     },
     "execution_count": 295,
     "metadata": {},
     "output_type": "execute_result"
    }
   ],
   "source": [
    "model_4= r2_score(y_test, pred4)\n",
    "model_4"
   ]
  },
  {
   "cell_type": "code",
   "execution_count": 296,
   "id": "25999b99",
   "metadata": {},
   "outputs": [
    {
     "data": {
      "image/png": "[encoded data removed]",
      "text/plain": [
       "<Figure size 1000x700 with 1 Axes>"
      ]
     },
     "metadata": {},
     "output_type": "display_data"
    }
   ],
   "source": [
    "plot_predict(predictions=pred4)"
   ]
  },
  {
   "cell_type": "markdown",
   "id": "5fef9503",
   "metadata": {},
   "source": [
    "# RandomForestClassifier"
   ]
  },
  {
   "cell_type": "code",
   "execution_count": 261,
   "id": "ed2b68e0",
   "metadata": {},
   "outputs": [
    {
     "data": {
      "text/plain": [
       "RandomForestClassifier(n_estimators=500)"
      ]
     },
     "execution_count": 261,
     "metadata": {},
     "output_type": "execute_result"
    }
   ],
   "source": [
    "from sklearn.ensemble import RandomForestClassifier\n",
    "rfc=RandomForestClassifier(n_estimators=500)\n",
    "rfc.fit(x_train,y_train)\n"
   ]
  },
  {
   "cell_type": "code",
   "execution_count": 262,
   "id": "caa795f3",
   "metadata": {},
   "outputs": [
    {
     "name": "stderr",
     "output_type": "stream",
     "text": [
      "C:\\Users\\Nazbeen\\anaconda3\\lib\\site-packages\\sklearn\\base.py:443: UserWarning: X has feature names, but RandomForestClassifier was fitted without feature names\n",
      "  warnings.warn(\n"
     ]
    },
    {
     "data": {
      "text/plain": [
       "array([0, 1, 1, 0, 1, 1, 1, 0, 0, 1, 1, 0, 1, 0, 1, 1, 1, 0, 0, 0, 0, 0,\n",
       "       1, 1, 1, 1, 1, 1, 0, 1, 0, 0, 0, 0, 1, 0, 1, 1, 1, 1, 1, 1, 1, 1,\n",
       "       1, 0, 1, 1, 0, 0, 0, 0, 1, 1, 0, 0, 0, 1, 0, 0, 0], dtype=int64)"
      ]
     },
     "execution_count": 262,
     "metadata": {},
     "output_type": "execute_result"
    }
   ],
   "source": [
    "pred5=rfc.predict(x_test)\n",
    "pred5\n",
    "\n"
   ]
  },
  {
   "cell_type": "code",
   "execution_count": 297,
   "id": "e4523856",
   "metadata": {},
   "outputs": [
    {
     "data": {
      "text/plain": [
       "0.8524590163934426"
      ]
     },
     "execution_count": 297,
     "metadata": {},
     "output_type": "execute_result"
    }
   ],
   "source": [
    "\n",
    "model_5 =accuracy_score(y_test,pred5)\n",
    "model_5"
   ]
  },
  {
   "cell_type": "code",
   "execution_count": 298,
   "id": "ac6bdc6a",
   "metadata": {},
   "outputs": [
    {
     "data": {
      "image/png": "[encoded data removed]",
      "text/plain": [
       "<Figure size 1000x700 with 1 Axes>"
      ]
     },
     "metadata": {},
     "output_type": "display_data"
    }
   ],
   "source": [
    "plot_predict(predictions=pred5)"
   ]
  },
  {
   "cell_type": "markdown",
   "id": "ff8c79e2",
   "metadata": {},
   "source": [
    "# KNeighborsClassifier"
   ]
  },
  {
   "cell_type": "code",
   "execution_count": 321,
   "id": "8c12eb11",
   "metadata": {},
   "outputs": [
    {
     "data": {
      "text/plain": [
       "KNeighborsRegressor(n_neighbors=1)"
      ]
     },
     "execution_count": 321,
     "metadata": {},
     "output_type": "execute_result"
    }
   ],
   "source": [
    "from sklearn.neighbors import KNeighborsRegressor\n",
    "\n",
    "knn=KNeighborsRegressor(n_neighbors=1)\n",
    "knn.fit(x_train, y_train)\n"
   ]
  },
  {
   "cell_type": "code",
   "execution_count": 326,
   "id": "fcc33914",
   "metadata": {},
   "outputs": [
    {
     "data": {
      "text/plain": [
       "-51.185344827586185"
      ]
     },
     "execution_count": 326,
     "metadata": {},
     "output_type": "execute_result"
    }
   ],
   "source": [
    "\n",
    "pred6=knn.predict(x_test.values)\n",
    "model_6 = r2_score(y_test,pred6)\n",
    "model_6"
   ]
  },
  {
   "cell_type": "code",
   "execution_count": 311,
   "id": "051b8a02",
   "metadata": {},
   "outputs": [
    {
     "data": {
      "image/png": "[encoded data removed]",
      "text/plain": [
       "<Figure size 1000x700 with 1 Axes>"
      ]
     },
     "metadata": {},
     "output_type": "display_data"
    }
   ],
   "source": [
    "plot_predict(predictions=preds)"
   ]
  },
  {
   "cell_type": "code",
   "execution_count": 337,
   "id": "8a92cbbd",
   "metadata": {},
   "outputs": [],
   "source": [
    "model_result = [[\"model_1 -LogisticRegression \", model_1, ''],\n",
    "                [\"model_2 -Tensorflow Api\", model_2,  ''],\n",
    "                [\"model_3 -LinearRegression\", model_3,  ''],\n",
    "                [\"model_4 -DecisionTreeRegresso\", model_4,  ''],\n",
    "                [\"model_5 -RandomForestClassifier\", model_5,  'good- model'],\n",
    "                [\"model_6 -KNeighborsRegressor\", model_6,  '']\n",
    "                \n",
    "                ]\n",
    "\n",
    "\n",
    "all_models = pd.DataFrame(model_result, columns=['models', 'Scores', 'good-acc'])"
   ]
  },
  {
   "cell_type": "code",
   "execution_count": 338,
   "id": "018aafc9",
   "metadata": {},
   "outputs": [
    {
     "data": {
      "text/html": [
       "<div>\n",
       "<style scoped>\n",
       "    .dataframe tbody tr th:only-of-type {\n",
       "        vertical-align: middle;\n",
       "    }\n",
       "\n",
       "    .dataframe tbody tr th {\n",
       "        vertical-align: top;\n",
       "    }\n",
       "\n",
       "    .dataframe thead th {\n",
       "        text-align: right;\n",
       "    }\n",
       "</style>\n",
       "<table border=\"1\" class=\"dataframe\">\n",
       "  <thead>\n",
       "    <tr style=\"text-align: right;\">\n",
       "      <th></th>\n",
       "      <th>models</th>\n",
       "      <th>Scores</th>\n",
       "      <th>good-acc</th>\n",
       "    </tr>\n",
       "  </thead>\n",
       "  <tbody>\n",
       "    <tr>\n",
       "      <th>0</th>\n",
       "      <td>model_1 -LogisticRegression</td>\n",
       "      <td>0.539871</td>\n",
       "      <td></td>\n",
       "    </tr>\n",
       "    <tr>\n",
       "      <th>1</th>\n",
       "      <td>model_2 -Tensorflow Api</td>\n",
       "      <td>0.492833</td>\n",
       "      <td></td>\n",
       "    </tr>\n",
       "    <tr>\n",
       "      <th>2</th>\n",
       "      <td>model_3 -LinearRegression</td>\n",
       "      <td>0.497652</td>\n",
       "      <td></td>\n",
       "    </tr>\n",
       "    <tr>\n",
       "      <th>3</th>\n",
       "      <td>model_4 -DecisionTreeRegresso</td>\n",
       "      <td>0.276940</td>\n",
       "      <td></td>\n",
       "    </tr>\n",
       "    <tr>\n",
       "      <th>4</th>\n",
       "      <td>model_5 -RandomForestClassifier</td>\n",
       "      <td>0.852459</td>\n",
       "      <td>good- model</td>\n",
       "    </tr>\n",
       "    <tr>\n",
       "      <th>5</th>\n",
       "      <td>model_6 -KNeighborsRegressor</td>\n",
       "      <td>-51.185345</td>\n",
       "      <td></td>\n",
       "    </tr>\n",
       "  </tbody>\n",
       "</table>\n",
       "</div>"
      ],
      "text/plain": [
       "                            models     Scores     good-acc\n",
       "0     model_1 -LogisticRegression    0.539871             \n",
       "1          model_2 -Tensorflow Api   0.492833             \n",
       "2        model_3 -LinearRegression   0.497652             \n",
       "3    model_4 -DecisionTreeRegresso   0.276940             \n",
       "4  model_5 -RandomForestClassifier   0.852459  good- model\n",
       "5     model_6 -KNeighborsRegressor -51.185345             "
      ]
     },
     "execution_count": 338,
     "metadata": {},
     "output_type": "execute_result"
    }
   ],
   "source": [
    "all_models"
   ]
  },
  {
   "cell_type": "code",
   "execution_count": 376,
   "id": "debdaa04",
   "metadata": {},
   "outputs": [
    {
     "ename": "InvalidIndexError",
     "evalue": "(slice(None, None, None), None)",
     "output_type": "error",
     "traceback": [
      "\u001b[1;31m---------------------------------------------------------------------------\u001b[0m",
      "\u001b[1;31mTypeError\u001b[0m                                 Traceback (most recent call last)",
      "File \u001b[1;32m~\\anaconda3\\lib\\site-packages\\pandas\\core\\indexes\\base.py:3621\u001b[0m, in \u001b[0;36mIndex.get_loc\u001b[1;34m(self, key, method, tolerance)\u001b[0m\n\u001b[0;32m   3620\u001b[0m \u001b[38;5;28;01mtry\u001b[39;00m:\n\u001b[1;32m-> 3621\u001b[0m     \u001b[38;5;28;01mreturn\u001b[39;00m \u001b[38;5;28;43mself\u001b[39;49m\u001b[38;5;241;43m.\u001b[39;49m\u001b[43m_engine\u001b[49m\u001b[38;5;241;43m.\u001b[39;49m\u001b[43mget_loc\u001b[49m\u001b[43m(\u001b[49m\u001b[43mcasted_key\u001b[49m\u001b[43m)\u001b[49m\n\u001b[0;32m   3622\u001b[0m \u001b[38;5;28;01mexcept\u001b[39;00m \u001b[38;5;167;01mKeyError\u001b[39;00m \u001b[38;5;28;01mas\u001b[39;00m err:\n",
      "File \u001b[1;32m~\\anaconda3\\lib\\site-packages\\pandas\\_libs\\index.pyx:136\u001b[0m, in \u001b[0;36mpandas._libs.index.IndexEngine.get_loc\u001b[1;34m()\u001b[0m\n",
      "File \u001b[1;32m~\\anaconda3\\lib\\site-packages\\pandas\\_libs\\index.pyx:142\u001b[0m, in \u001b[0;36mpandas._libs.index.IndexEngine.get_loc\u001b[1;34m()\u001b[0m\n",
      "\u001b[1;31mTypeError\u001b[0m: '(slice(None, None, None), None)' is an invalid key",
      "\nDuring handling of the above exception, another exception occurred:\n",
      "\u001b[1;31mInvalidIndexError\u001b[0m                         Traceback (most recent call last)",
      "Input \u001b[1;32mIn [376]\u001b[0m, in \u001b[0;36m<cell line: 6>\u001b[1;34m()\u001b[0m\n\u001b[0;32m      3\u001b[0m activity \u001b[38;5;241m=\u001b[39m [\u001b[38;5;124m\"\u001b[39m\u001b[38;5;124mcombing\u001b[39m\u001b[38;5;124m\"\u001b[39m, \u001b[38;5;124m\"\u001b[39m\u001b[38;5;124mdrinking\u001b[39m\u001b[38;5;124m\"\u001b[39m, \u001b[38;5;124m\"\u001b[39m\u001b[38;5;124mfeeding\u001b[39m\u001b[38;5;124m\"\u001b[39m, \u001b[38;5;124m\"\u001b[39m\u001b[38;5;124mnapping\u001b[39m\u001b[38;5;124m\"\u001b[39m, \u001b[38;5;124m\"\u001b[39m\u001b[38;5;124mplaying\u001b[39m\u001b[38;5;124m\"\u001b[39m, \u001b[38;5;124m\"\u001b[39m\u001b[38;5;124mwashing\u001b[39m\u001b[38;5;124m\"\u001b[39m]\n\u001b[0;32m      5\u001b[0m fig, ax \u001b[38;5;241m=\u001b[39m plt\u001b[38;5;241m.\u001b[39msubplots()\n\u001b[1;32m----> 6\u001b[0m \u001b[43max\u001b[49m\u001b[38;5;241;43m.\u001b[39;49m\u001b[43mplot\u001b[49m\u001b[43m(\u001b[49m\u001b[43mall_models\u001b[49m\u001b[43m,\u001b[49m\u001b[43m \u001b[49m\u001b[43mall_models\u001b[49m\u001b[43m[\u001b[49m\u001b[38;5;124;43m'\u001b[39;49m\u001b[38;5;124;43mmodels\u001b[39;49m\u001b[38;5;124;43m'\u001b[39;49m\u001b[43m]\u001b[49m\u001b[43m,\u001b[49m\u001b[43m \u001b[49m\u001b[43mlabel\u001b[49m\u001b[38;5;241;43m=\u001b[39;49m\u001b[38;5;124;43m\"\u001b[39;49m\u001b[38;5;124;43mdog\u001b[39;49m\u001b[38;5;124;43m\"\u001b[39;49m\u001b[43m)\u001b[49m\n\u001b[0;32m      7\u001b[0m ax\u001b[38;5;241m.\u001b[39mplot(all_models, all_models[\u001b[38;5;124m'\u001b[39m\u001b[38;5;124mScores\u001b[39m\u001b[38;5;124m'\u001b[39m], label\u001b[38;5;241m=\u001b[39m\u001b[38;5;124m\"\u001b[39m\u001b[38;5;124mcat\u001b[39m\u001b[38;5;124m\"\u001b[39m)\n\u001b[0;32m      8\u001b[0m ax\u001b[38;5;241m.\u001b[39mlegend()\n",
      "File \u001b[1;32m~\\anaconda3\\lib\\site-packages\\matplotlib\\axes\\_axes.py:1632\u001b[0m, in \u001b[0;36mAxes.plot\u001b[1;34m(self, scalex, scaley, data, *args, **kwargs)\u001b[0m\n\u001b[0;32m   1390\u001b[0m \u001b[38;5;124;03m\"\"\"\u001b[39;00m\n\u001b[0;32m   1391\u001b[0m \u001b[38;5;124;03mPlot y versus x as lines and/or markers.\u001b[39;00m\n\u001b[0;32m   1392\u001b[0m \n\u001b[1;32m   (...)\u001b[0m\n\u001b[0;32m   1629\u001b[0m \u001b[38;5;124;03m(``'green'``) or hex strings (``'#008000'``).\u001b[39;00m\n\u001b[0;32m   1630\u001b[0m \u001b[38;5;124;03m\"\"\"\u001b[39;00m\n\u001b[0;32m   1631\u001b[0m kwargs \u001b[38;5;241m=\u001b[39m cbook\u001b[38;5;241m.\u001b[39mnormalize_kwargs(kwargs, mlines\u001b[38;5;241m.\u001b[39mLine2D)\n\u001b[1;32m-> 1632\u001b[0m lines \u001b[38;5;241m=\u001b[39m [\u001b[38;5;241m*\u001b[39m\u001b[38;5;28mself\u001b[39m\u001b[38;5;241m.\u001b[39m_get_lines(\u001b[38;5;241m*\u001b[39margs, data\u001b[38;5;241m=\u001b[39mdata, \u001b[38;5;241m*\u001b[39m\u001b[38;5;241m*\u001b[39mkwargs)]\n\u001b[0;32m   1633\u001b[0m \u001b[38;5;28;01mfor\u001b[39;00m line \u001b[38;5;129;01min\u001b[39;00m lines:\n\u001b[0;32m   1634\u001b[0m     \u001b[38;5;28mself\u001b[39m\u001b[38;5;241m.\u001b[39madd_line(line)\n",
      "File \u001b[1;32m~\\anaconda3\\lib\\site-packages\\matplotlib\\axes\\_base.py:312\u001b[0m, in \u001b[0;36m_process_plot_var_args.__call__\u001b[1;34m(self, data, *args, **kwargs)\u001b[0m\n\u001b[0;32m    310\u001b[0m     this \u001b[38;5;241m+\u001b[39m\u001b[38;5;241m=\u001b[39m args[\u001b[38;5;241m0\u001b[39m],\n\u001b[0;32m    311\u001b[0m     args \u001b[38;5;241m=\u001b[39m args[\u001b[38;5;241m1\u001b[39m:]\n\u001b[1;32m--> 312\u001b[0m \u001b[38;5;28;01myield from\u001b[39;00m \u001b[38;5;28;43mself\u001b[39;49m\u001b[38;5;241;43m.\u001b[39;49m\u001b[43m_plot_args\u001b[49m\u001b[43m(\u001b[49m\u001b[43mthis\u001b[49m\u001b[43m,\u001b[49m\u001b[43m \u001b[49m\u001b[43mkwargs\u001b[49m\u001b[43m)\u001b[49m\n",
      "File \u001b[1;32m~\\anaconda3\\lib\\site-packages\\matplotlib\\axes\\_base.py:487\u001b[0m, in \u001b[0;36m_process_plot_var_args._plot_args\u001b[1;34m(self, tup, kwargs, return_kwargs)\u001b[0m\n\u001b[0;32m    484\u001b[0m         kw[prop_name] \u001b[38;5;241m=\u001b[39m val\n\u001b[0;32m    486\u001b[0m \u001b[38;5;28;01mif\u001b[39;00m \u001b[38;5;28mlen\u001b[39m(xy) \u001b[38;5;241m==\u001b[39m \u001b[38;5;241m2\u001b[39m:\n\u001b[1;32m--> 487\u001b[0m     x \u001b[38;5;241m=\u001b[39m \u001b[43m_check_1d\u001b[49m\u001b[43m(\u001b[49m\u001b[43mxy\u001b[49m\u001b[43m[\u001b[49m\u001b[38;5;241;43m0\u001b[39;49m\u001b[43m]\u001b[49m\u001b[43m)\u001b[49m\n\u001b[0;32m    488\u001b[0m     y \u001b[38;5;241m=\u001b[39m _check_1d(xy[\u001b[38;5;241m1\u001b[39m])\n\u001b[0;32m    489\u001b[0m \u001b[38;5;28;01melse\u001b[39;00m:\n",
      "File \u001b[1;32m~\\anaconda3\\lib\\site-packages\\matplotlib\\cbook\\__init__.py:1327\u001b[0m, in \u001b[0;36m_check_1d\u001b[1;34m(x)\u001b[0m\n\u001b[0;32m   1321\u001b[0m \u001b[38;5;28;01mwith\u001b[39;00m warnings\u001b[38;5;241m.\u001b[39mcatch_warnings(record\u001b[38;5;241m=\u001b[39m\u001b[38;5;28;01mTrue\u001b[39;00m) \u001b[38;5;28;01mas\u001b[39;00m w:\n\u001b[0;32m   1322\u001b[0m     warnings\u001b[38;5;241m.\u001b[39mfilterwarnings(\n\u001b[0;32m   1323\u001b[0m         \u001b[38;5;124m\"\u001b[39m\u001b[38;5;124malways\u001b[39m\u001b[38;5;124m\"\u001b[39m,\n\u001b[0;32m   1324\u001b[0m         category\u001b[38;5;241m=\u001b[39m\u001b[38;5;167;01mWarning\u001b[39;00m,\n\u001b[0;32m   1325\u001b[0m         message\u001b[38;5;241m=\u001b[39m\u001b[38;5;124m'\u001b[39m\u001b[38;5;124mSupport for multi-dimensional indexing\u001b[39m\u001b[38;5;124m'\u001b[39m)\n\u001b[1;32m-> 1327\u001b[0m     ndim \u001b[38;5;241m=\u001b[39m \u001b[43mx\u001b[49m\u001b[43m[\u001b[49m\u001b[43m:\u001b[49m\u001b[43m,\u001b[49m\u001b[43m \u001b[49m\u001b[38;5;28;43;01mNone\u001b[39;49;00m\u001b[43m]\u001b[49m\u001b[38;5;241m.\u001b[39mndim\n\u001b[0;32m   1328\u001b[0m     \u001b[38;5;66;03m# we have definitely hit a pandas index or series object\u001b[39;00m\n\u001b[0;32m   1329\u001b[0m     \u001b[38;5;66;03m# cast to a numpy array.\u001b[39;00m\n\u001b[0;32m   1330\u001b[0m     \u001b[38;5;28;01mif\u001b[39;00m \u001b[38;5;28mlen\u001b[39m(w) \u001b[38;5;241m>\u001b[39m \u001b[38;5;241m0\u001b[39m:\n",
      "File \u001b[1;32m~\\anaconda3\\lib\\site-packages\\pandas\\core\\frame.py:3505\u001b[0m, in \u001b[0;36mDataFrame.__getitem__\u001b[1;34m(self, key)\u001b[0m\n\u001b[0;32m   3503\u001b[0m \u001b[38;5;28;01mif\u001b[39;00m \u001b[38;5;28mself\u001b[39m\u001b[38;5;241m.\u001b[39mcolumns\u001b[38;5;241m.\u001b[39mnlevels \u001b[38;5;241m>\u001b[39m \u001b[38;5;241m1\u001b[39m:\n\u001b[0;32m   3504\u001b[0m     \u001b[38;5;28;01mreturn\u001b[39;00m \u001b[38;5;28mself\u001b[39m\u001b[38;5;241m.\u001b[39m_getitem_multilevel(key)\n\u001b[1;32m-> 3505\u001b[0m indexer \u001b[38;5;241m=\u001b[39m \u001b[38;5;28;43mself\u001b[39;49m\u001b[38;5;241;43m.\u001b[39;49m\u001b[43mcolumns\u001b[49m\u001b[38;5;241;43m.\u001b[39;49m\u001b[43mget_loc\u001b[49m\u001b[43m(\u001b[49m\u001b[43mkey\u001b[49m\u001b[43m)\u001b[49m\n\u001b[0;32m   3506\u001b[0m \u001b[38;5;28;01mif\u001b[39;00m is_integer(indexer):\n\u001b[0;32m   3507\u001b[0m     indexer \u001b[38;5;241m=\u001b[39m [indexer]\n",
      "File \u001b[1;32m~\\anaconda3\\lib\\site-packages\\pandas\\core\\indexes\\base.py:3628\u001b[0m, in \u001b[0;36mIndex.get_loc\u001b[1;34m(self, key, method, tolerance)\u001b[0m\n\u001b[0;32m   3623\u001b[0m         \u001b[38;5;28;01mraise\u001b[39;00m \u001b[38;5;167;01mKeyError\u001b[39;00m(key) \u001b[38;5;28;01mfrom\u001b[39;00m \u001b[38;5;21;01merr\u001b[39;00m\n\u001b[0;32m   3624\u001b[0m     \u001b[38;5;28;01mexcept\u001b[39;00m \u001b[38;5;167;01mTypeError\u001b[39;00m:\n\u001b[0;32m   3625\u001b[0m         \u001b[38;5;66;03m# If we have a listlike key, _check_indexing_error will raise\u001b[39;00m\n\u001b[0;32m   3626\u001b[0m         \u001b[38;5;66;03m#  InvalidIndexError. Otherwise we fall through and re-raise\u001b[39;00m\n\u001b[0;32m   3627\u001b[0m         \u001b[38;5;66;03m#  the TypeError.\u001b[39;00m\n\u001b[1;32m-> 3628\u001b[0m         \u001b[38;5;28;43mself\u001b[39;49m\u001b[38;5;241;43m.\u001b[39;49m\u001b[43m_check_indexing_error\u001b[49m\u001b[43m(\u001b[49m\u001b[43mkey\u001b[49m\u001b[43m)\u001b[49m\n\u001b[0;32m   3629\u001b[0m         \u001b[38;5;28;01mraise\u001b[39;00m\n\u001b[0;32m   3631\u001b[0m \u001b[38;5;66;03m# GH#42269\u001b[39;00m\n",
      "File \u001b[1;32m~\\anaconda3\\lib\\site-packages\\pandas\\core\\indexes\\base.py:5637\u001b[0m, in \u001b[0;36mIndex._check_indexing_error\u001b[1;34m(self, key)\u001b[0m\n\u001b[0;32m   5633\u001b[0m \u001b[38;5;28;01mdef\u001b[39;00m \u001b[38;5;21m_check_indexing_error\u001b[39m(\u001b[38;5;28mself\u001b[39m, key):\n\u001b[0;32m   5634\u001b[0m     \u001b[38;5;28;01mif\u001b[39;00m \u001b[38;5;129;01mnot\u001b[39;00m is_scalar(key):\n\u001b[0;32m   5635\u001b[0m         \u001b[38;5;66;03m# if key is not a scalar, directly raise an error (the code below\u001b[39;00m\n\u001b[0;32m   5636\u001b[0m         \u001b[38;5;66;03m# would convert to numpy arrays and raise later any way) - GH29926\u001b[39;00m\n\u001b[1;32m-> 5637\u001b[0m         \u001b[38;5;28;01mraise\u001b[39;00m InvalidIndexError(key)\n",
      "\u001b[1;31mInvalidIndexError\u001b[0m: (slice(None, None, None), None)"
     ]
    },
    {
     "data": {
      "image/png": "[encoded data removed]",
      "text/plain": [
       "<Figure size 640x480 with 1 Axes>"
      ]
     },
     "metadata": {},
     "output_type": "display_data"
    }
   ],
   "source": [
    "cat = [\"bored\", \"happy\", \"bored\", \"bored\", \"happy\", \"bored\"]\n",
    "dog = [\"happy\", \"happy\", \"happy\", \"happy\", \"bored\", \"bored\"]\n",
    "activity = [\"combing\", \"drinking\", \"feeding\", \"napping\", \"playing\", \"washing\"]\n",
    "\n",
    "fig, ax = plt.subplots()\n",
    "ax.plot(all_models, all_models['models'], label=\"dog\")\n",
    "ax.plot(all_models, all_models['Scores'], label=\"cat\")\n",
    "ax.legend()\n",
    "\n",
    "plt.show()"
   ]
  },
  {
   "cell_type": "code",
   "execution_count": 371,
   "id": "d043fbd3",
   "metadata": {},
   "outputs": [
    {
     "name": "stderr",
     "output_type": "stream",
     "text": [
      "No artists with labels found to put in legend.  Note that artists whose label start with an underscore are ignored when legend() is called with no argument.\n"
     ]
    },
    {
     "data": {
      "text/plain": [
       "(array([-60., -50., -40., -30., -20., -10.,   0.,  10.]),\n",
       " [Text(0, 0, ''),\n",
       "  Text(0, 0, ''),\n",
       "  Text(0, 0, ''),\n",
       "  Text(0, 0, ''),\n",
       "  Text(0, 0, ''),\n",
       "  Text(0, 0, ''),\n",
       "  Text(0, 0, ''),\n",
       "  Text(0, 0, '')])"
      ]
     },
     "execution_count": 371,
     "metadata": {},
     "output_type": "execute_result"
    },
    {
     "data": {
      "image/png": "[encoded data removed]",
      "text/plain": [
       "<Figure size 640x480 with 1 Axes>"
      ]
     },
     "metadata": {},
     "output_type": "display_data"
    }
   ],
   "source": [
    "sns.scatterplot( x='Scores', y='models',data=all_models)\n",
    "plt.xlabel('Models Names')\n",
    "plt.ylabel('Models Score')\n",
    "plt.legend()\n",
    "plt.xticks(rotation=70)"
   ]
  },
  {
   "cell_type": "code",
   "execution_count": null,
   "id": "430f7ee7",
   "metadata": {},
   "outputs": [],
   "source": []
  }
 ],
 "metadata": {
  "kernelspec": {
   "display_name": "Python 3 (ipykernel)",
   "language": "python",
   "name": "python3"
  },
  "language_info": {
   "codemirror_mode": {
    "name": "ipython",
    "version": 3
   },
   "file_extension": ".py",
   "mimetype": "text/x-python",
   "name": "python",
   "nbconvert_exporter": "python",
   "pygments_lexer": "ipython3",
   "version": "3.9.12"
  }
 },
 "nbformat": 4,
 "nbformat_minor": 5
}
